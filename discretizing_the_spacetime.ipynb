{
  "nbformat": 4,
  "nbformat_minor": 0,
  "metadata": {
    "colab": {
      "name": "discretizing_the_spacetime.ipynb",
      "provenance": [],
      "collapsed_sections": [
        "H3MSGDmGQnAU"
      ],
      "authorship_tag": "ABX9TyMjP4gVZb8P6DEDKoEMMn7S",
      "include_colab_link": true
    },
    "kernelspec": {
      "name": "python3",
      "display_name": "Python 3"
    },
    "widgets": {
      "application/vnd.jupyter.widget-state+json": {
        "4b2979a969df493aa1b149ffe949f8f7": {
          "model_module": "@jupyter-widgets/controls",
          "model_name": "VBoxModel",
          "state": {
            "_view_name": "VBoxView",
            "_dom_classes": [
              "widget-interact"
            ],
            "_model_name": "VBoxModel",
            "_view_module": "@jupyter-widgets/controls",
            "_model_module_version": "1.5.0",
            "_view_count": null,
            "_view_module_version": "1.5.0",
            "box_style": "",
            "layout": "IPY_MODEL_d2f9af4a210b4d3a9a62200161f5a98c",
            "_model_module": "@jupyter-widgets/controls",
            "children": [
              "IPY_MODEL_551729bb7f6d4864bdf91199365dfc96",
              "IPY_MODEL_3cefb3a6655a4b0cbfcd4910ed065c50"
            ]
          }
        },
        "d2f9af4a210b4d3a9a62200161f5a98c": {
          "model_module": "@jupyter-widgets/base",
          "model_name": "LayoutModel",
          "state": {
            "_view_name": "LayoutView",
            "grid_template_rows": null,
            "right": null,
            "justify_content": null,
            "_view_module": "@jupyter-widgets/base",
            "overflow": null,
            "_model_module_version": "1.2.0",
            "_view_count": null,
            "flex_flow": null,
            "width": null,
            "min_width": null,
            "border": null,
            "align_items": null,
            "bottom": null,
            "_model_module": "@jupyter-widgets/base",
            "top": null,
            "grid_column": null,
            "overflow_y": null,
            "overflow_x": null,
            "grid_auto_flow": null,
            "grid_area": null,
            "grid_template_columns": null,
            "flex": null,
            "_model_name": "LayoutModel",
            "justify_items": null,
            "grid_row": null,
            "max_height": null,
            "align_content": null,
            "visibility": null,
            "align_self": null,
            "height": null,
            "min_height": null,
            "padding": null,
            "grid_auto_rows": null,
            "grid_gap": null,
            "max_width": null,
            "order": null,
            "_view_module_version": "1.2.0",
            "grid_template_areas": null,
            "object_position": null,
            "object_fit": null,
            "grid_auto_columns": null,
            "margin": null,
            "display": null,
            "left": null
          }
        },
        "551729bb7f6d4864bdf91199365dfc96": {
          "model_module": "@jupyter-widgets/controls",
          "model_name": "FloatSliderModel",
          "state": {
            "_view_name": "FloatSliderView",
            "style": "IPY_MODEL_8c847af2324846929208cccb75155173",
            "_dom_classes": [],
            "description": "t",
            "step": 0.01,
            "_model_name": "FloatSliderModel",
            "orientation": "horizontal",
            "max": 0.25,
            "_view_module": "@jupyter-widgets/controls",
            "_model_module_version": "1.5.0",
            "value": 0,
            "_view_count": null,
            "disabled": false,
            "_view_module_version": "1.5.0",
            "min": -0.25,
            "continuous_update": true,
            "readout_format": ".2f",
            "description_tooltip": null,
            "readout": true,
            "_model_module": "@jupyter-widgets/controls",
            "layout": "IPY_MODEL_b90734904a4e412e96e38934448de75f"
          }
        },
        "3cefb3a6655a4b0cbfcd4910ed065c50": {
          "model_module": "@jupyter-widgets/output",
          "model_name": "OutputModel",
          "state": {
            "_view_name": "OutputView",
            "msg_id": "",
            "_dom_classes": [],
            "_model_name": "OutputModel",
            "outputs": [
              {
                "output_type": "display_data",
                "metadata": {
                  "tags": [],
                  "needs_background": "light"
                },
                "image/png": "iVBORw0KGgoAAAANSUhEUgAAAT4AAAEyCAYAAABj+rxLAAAABHNCSVQICAgIfAhkiAAAAAlwSFlzAAALEgAACxIB0t1+/AAAADh0RVh0U29mdHdhcmUAbWF0cGxvdGxpYiB2ZXJzaW9uMy4yLjEsIGh0dHA6Ly9tYXRwbG90bGliLm9yZy+j8jraAAAQZ0lEQVR4nO3d36skd5nH8c+zNRZbYBYvJksgM9kRdm+CCtJN2CYXfklEogZzq4uCeHFuVkggEoz5A/pCUC8UZHAXFgyEBVdcghKTXb8XS5Vin5i4JFEJEn9kFU/YCwUvimmfvThnwpg9c7p7urrrVD3vFzTMOaeqPs83gU++1XOqY+4uAIjkL/oeAAD2jeIDEA7FByAcig9AOBQfgHAoPgDhhCg+Mzvoe4ZdGvP6xrw2ifX1JUTxSTqX//A7NOb1jXltEuvrRZTiA4A3WR9Pbly8eNGvXLmyt7yjoyPdfvvte8vbtzGvb8xrk1hf1w4PD99w95WBF/YxzFtduXJFi8Wij2gAI2Zmv1jnOG51AYRD8QEIh+IDEA7FByAcig9AOBQfgHAoPgDhUHwAwqH4AIRD8QEIZzDF1zSN5vO5mqYhj7xzk0XeQPPcfe+vyWTim6jr2quq8qIovKoqr+t6o/M3Rd5w88a8NvJWk7TwNTpoEDu+nLPattVyuVTbtso5k0de71nkDTdvEMWXUlJZliqKQmVZKqVEHnm9Z5E33LxePo9vOp36ph9L1TSNcs5KKWk2m+1oMvLGkDfmtZF3NjM7dPfpyuOGUnwAsMq6xTeIW10A6BLFByAcig9AOBQfgHAoPgDhUHwAwums+MysMLMfmdnTXV0TAHahyx3fw5Je6fB6ALATnRSfmV2S9GFJX+viegCwS13t+L4k6TFJf7rZAWZ2YGYLM1scHR11FAsAf+bi9Z45eR2cdtCFbVPM7EFJv3P3QzNLNzvO3a9KuiodP7K2bS4AnOKNfT2ydq+kj5jZa5KeknSfmX29g+sCwE5sXXzu/ri7X3L3K5I+Kuk/3f3jW08GADvC7/EBCGfr9/hu5O5ZUu7ymgDQNXZ8AMKh+ACEQ/EBCIfiAxAOxQcgHIoPQDiDKb6maTSfz9U0DXnknZss8gaa5+57f00mE99EXddeVZUXReFVVXld1xudvynyhps35rWRt5qkha/RQYPY8eWc1batlsul2rZVzpk88nrPIm+4eYMovpSSyrJUURQqy1IpJfLI6z2LvOHm2fHucL+m06kvFouNzmmaRjlnpZQ0m812NBl5Y8gb89rIO5uZHfoaH0s1mOIDgFXWLb5B3OoCQJcoPgDhUHwAwqH4AIRD8QEIh+IDEA7FByAcig9AOBQfgHAoPgDhUHwAwqH4AIRD8QEIh+IDEA7FByAcig9AOBQfgHAoPgDhUHwAwqH4AIRD8QEIZzDF1zSN5vO5mqYhj7xzk0XeQPPcfe+vyWTim6jr2quq8qIovKoqr+t6o/M3Rd5w88a8NvJWk7TwNTpoEDu+nLPattVyuVTbtso5k0de71nkDTdvEMWXUlJZliqKQmVZKqVEHnm9Z5E33Dw73h3u13Q69cVisdE5TdMo56yUkmaz2Y4mI28MeWNeG3lnM7NDd5+uPG4oxQcAq6xbfIO41QWALlF8AMKh+ACEQ/EBCIfiAxAOxQcgnK2Lz8wum9n3zOxlM3vJzB7uYjAA2JULHVzjmqRH3f15M7tN0qGZPevuL3dwbQDo3NY7Pnf/jbs/f/LnP0h6RdKd214XAHal0/f4zOyKpPdK+kGX1wWALnVWfGb2dknfkPSIu//+lJ8fmNnCzBZHR0ddxQLAjS5e75mT18FpB3XyrK6ZvU3S05KecfcvrDqeZ3UB7MLentU1M5P0T5JeWaf0AKBvXdzq3ivpE5LuM7MXTl4f6uC6ALATW/86i7v/lyTrYBYA2Aue3AAQDsUHIByKD0A4FB+AcCg+AOFQfADCGUzxNU2j+XyupmnII+/cZJE30Dx33/trMpn4Juq69qqqvCgKr6rK67re6PxNkTfcvDGvjbzVJC18jQ4axI4v56y2bbVcLtW2rXLO5JHXexZ5w80bRPGllFSWpYqiUFmWSimRR17vWeQNN6+TT2fZ1K18OkvTNMo5K6Wk2Wy2o8nIG0PemNdG3tnW/XSWwRQfAKyyt4+lAoChofgAhEPxAQiH4gMQDsUHIByKD0A4FB+AcCg+AOFQfADCofgAhEPxAQiH4gMQDsUHIByKD0A4FB+AcCg+AOFQfADCofgAhEPxAQiH4gMQDsUHIJzBFF/TNJrP52qahjzyzk0WeQPNc/e9vyaTiW+irmuvqsqLovCqqryu643O3xR5w80b89rIW03SwtfooEHs+HLOattWy+VSbdsq50weeb1nkTfcvEEUX0pJZVmqKAqVZamUEnnk9Z5F3nDz7Hh3uF/T6dQXi8VG5zRNo5yzUkqazWY7moy8MeSNeW3knc3MDt19uvK4oRQfAKyybvEN4lYXALpE8QEIh+IDEA7FByAcig9AOBQfgHAoPgDhdFJ8ZvaAmf3UzF41s892cU0A2JWti8/MCklfkfRBSXdL+piZ3b3tdQFgV7rY8d0j6VV3/7m7t5KekvRQB9cFgJ3oovjulPSrG77+9cn3/oyZHZjZwswWR0dHHcQCwP9z8XrPnLwOTjvowr6mcferkq5Kx8/q7isXQChv7OtZ3dclXb7h60sn3wOAc6mL4vuhpL8zs3eaWSnpo5L+vYPrAsBObH2r6+7XzOzTkp6RVEj6Z3d/aevJAGBHOnmPz92/LenbXVwLAHaNJzcAhEPxAQiH4gMQDsUHIByKD0A4gym+pmk0n8/VNA155J2bLPIGmufue39NJhPfRF3XXlWVF0XhVVV5Xdcbnb8p8oabN+a1kbeapIWv0UGD2PHlnNW2rZbLpdq2Vc6ZPPJ6zyJvuHmDKL6UksqyVFEUKstSKSXyyOs9i7zh5tnx7nC/ptOpLxaLjc5pmkY5Z6WUNJvNdjQZeWPIG/PayDubmR36Gp/OMpjiA4BV1i2+QdzqAkCXKD4A4VB8AMKh+ACEQ/EBCIfiAxAOxQcgHIoPQDgUH4BwKD4A4VB8AMKh+ACEQ/EBCIfiAxAOxQcgHIoPQDgUH4BwKD4A4VB8AMKh+ACEQ/EBCIfiAxDOYIqvaRrN53M1TUMeeecmi7yB5rn73l+TycQ3Ude1V1XlRVF4VVVe1/VG52+KvOHmjXlt5K0maeFrdNAgdnw5Z7Vtq+VyqbZtlXMmj7zes8gbbt4gii+lpLIsVRSFyrJUSok88nrPIm+4eXa8O9yv6XTqi8Vio3OaplHOWSklzWazHU1G3hjyxrw28s5mZofuPl153FCKDwBWWbf4BnGrCwBdovgAhEPxAQiH4gMQDsUHIByKD0A4WxWfmX3ezH5iZj82s2+a2Tu6GgwAdmXbHd+zkt7l7u+R9DNJj28/EgDs1lbF5+7fdfdrJ19+X9Kl7UcCgN3q8j2+T0n6zs1+aGYHZrYws8XR0VGHsQDwpovXe+bkdXDaQRdWXcXMnpN0xyk/esLdv3VyzBOSrkl68mbXcferkq5Kx4+srbEAANjUG+s8sray+Nz9/Wf93Mw+KelBSfd7Hw/+AsCGVhbfWczsAUmPSXqfu/+xm5EAYLe2fY/vy5Juk/Ssmb1gZl/tYCYA2Kmtdnzu/rddDQIA+8KTGwDCofgAhEPxAQiH4gMQDsUHIByKD0A4gym+pmk0n8/VNA155J2bLPIGmufue39NJhPfRF3XXlWVF0XhVVV5Xdcbnb8p8oabN+a1kbeapIWv0UGD2PHlnNW2rZbLpdq2Vc6ZPPJ6zyJvuHmDKL6UksqyVFEUKstSKSXyyOs9i7zh5pn38IEq0+nUF4vFRuc0TaOcs1JKms1mO5qMvDHkjXlt5J3NzA59jY+lGkzxAcAq6xbfIG51AaBLFB+AcCg+AOFQfADCofgAhEPxAQiH4gMQDsUHIByKD0A4FB+AcCg+AOFQfADCofgAhEPxAQiH4gMQDsUHIByKD0A4FB+AcCg+AOFQfADCofgAhDOY4muaRvP5XE3TkEfeuckib6B57r7312Qy8U3Ude1VVXlRFF5Vldd1vdH5myJvuHljXht5q0la+BodNIgdX85ZbdtquVyqbVvlnMkjr/cs8oabN4jiSympLEsVRaGyLJVSIo+83rPIG26eHe8O92s6nfpisdjonKZplHNWSkmz2WxHk5E3hrwxr428s5nZobtPVx43lOIDgFXWLb5B3OoCQJcoPgDhUHwAwqH4AIRD8QEIh+IDEE4nxWdmj5qZm9nFLq4HALu0dfGZ2WVJH5D0y+3HAYDd62LH90VJj0na/29CA8At2Kr4zOwhSa+7+4sdzQMAO3dh1QFm9pykO0750ROSPqfj29yVzOxA0oEk3XXXXRuMCABru2hmNz4Pe9Xdr771oFt+VtfM3i3pPyT98eRblyT9j6R73P23Z53Ls7oAdmHdZ3VX7vhuxt3/W9Jf3xD4mqSpu79xq9cEgH3g9/gAhHPLO763cvcrXV0LAHaJHR+AcCg+AOFQfADCofgAhEPxAQiH4gMQzmCKr2kazedzNU1DHnnnJou8gea5+95fk8nEN1HXtVdV5UVReFVVXtf1Rudvirzh5o15beStJmnha3TQIHZ8OWe1bavlcqm2bZVzJo+83rPIG27eIIovpaSyLFUUhcqyVEqJPPJ6zyJvuHm3/Oks27iVT2dpmkY5Z6WUNJvNdjQZeWPIG/PayDvbup/OMpjiA4BV1i2+QdzqAkCXKD4A4VB8AMKh+ACEQ/EBCIfiAxAOxQcgHIoPQDgUH4BwKD4A4fTyyJqZHUn6xR4jL0oa8//ofMzrG/PaJNbXtb9x99tXHdRL8e2bmS3WeX5vqMa8vjGvTWJ9feFWF0A4FB+AcKIU39W+B9ixMa9vzGuTWF8vQrzHBwA3irLjA4A3UXwAwglXfGb2qJm5mV3se5aumNnnzewnZvZjM/ummb2j75m6YGYPmNlPzexVM/ts3/N0ycwum9n3zOxlM3vJzB7ue6aumVlhZj8ys6f7nuWtQhWfmV2W9AFJv+x7lo49K+ld7v4eST+T9HjP82zNzApJX5H0QUl3S/qYmd3d71SduibpUXe/W9LfS/rHka1Pkh6W9ErfQ5wmVPFJ+qKkxySN6m903P277n7t5MvvS7rU5zwduUfSq+7+c3dvJT0l6aGeZ+qMu//G3Z8/+fMfdFwQd/Y7VXfM7JKkD0v6Wt+znCZM8ZnZQ5Jed/cX+55lxz4l6Tt9D9GBOyX96oavf60RFcONzOyKpPdK+kG/k3TqSzreZPyp70FOc6HvAbpkZs9JuuOUHz0h6XM6vs0dpLPW5u7fOjnmCR3fQj25z9lw68zs7ZK+IekRd/993/N0wcwelPQ7dz80s9T3PKcZVfG5+/tP+76ZvVvSOyW9aGbS8a3g82Z2j7v/do8j3rKbre06M/ukpAcl3e/j+OXM1yVdvuHrSyffGw0ze5uOS+9Jd/+3vufp0L2SPmJmH5L0l5L+ysy+7u4f73muN4X8BWYze03S1N1H8akYZvaApC9Iep+7H/U9TxfM7IKO/6Lmfh0X3g8l/YO7v9TrYB2x4/8C/4uk/3X3R/qeZ1dOdnyfcfcH+57lRmHe4xu5L0u6TdKzZvaCmX2174G2dfKXNZ+W9IyO3/j/17GU3ol7JX1C0n0n/85eONkhYQ9C7vgAxMaOD0A4FB+AcCg+AOFQfADCofgAhEPxAQiH4gMQzv8BYZJ0BEfdfQwAAAAASUVORK5CYII=\n",
                "text/plain": "<Figure size 360x360 with 1 Axes>"
              }
            ],
            "_view_module": "@jupyter-widgets/output",
            "_model_module_version": "1.0.0",
            "_view_count": null,
            "_view_module_version": "1.0.0",
            "layout": "IPY_MODEL_6605007a163b4e738a7395881d4a143b",
            "_model_module": "@jupyter-widgets/output"
          }
        },
        "8c847af2324846929208cccb75155173": {
          "model_module": "@jupyter-widgets/controls",
          "model_name": "SliderStyleModel",
          "state": {
            "_view_name": "StyleView",
            "handle_color": null,
            "_model_name": "SliderStyleModel",
            "description_width": "",
            "_view_module": "@jupyter-widgets/base",
            "_model_module_version": "1.5.0",
            "_view_count": null,
            "_view_module_version": "1.2.0",
            "_model_module": "@jupyter-widgets/controls"
          }
        },
        "b90734904a4e412e96e38934448de75f": {
          "model_module": "@jupyter-widgets/base",
          "model_name": "LayoutModel",
          "state": {
            "_view_name": "LayoutView",
            "grid_template_rows": null,
            "right": null,
            "justify_content": null,
            "_view_module": "@jupyter-widgets/base",
            "overflow": null,
            "_model_module_version": "1.2.0",
            "_view_count": null,
            "flex_flow": null,
            "width": null,
            "min_width": null,
            "border": null,
            "align_items": null,
            "bottom": null,
            "_model_module": "@jupyter-widgets/base",
            "top": null,
            "grid_column": null,
            "overflow_y": null,
            "overflow_x": null,
            "grid_auto_flow": null,
            "grid_area": null,
            "grid_template_columns": null,
            "flex": null,
            "_model_name": "LayoutModel",
            "justify_items": null,
            "grid_row": null,
            "max_height": null,
            "align_content": null,
            "visibility": null,
            "align_self": null,
            "height": null,
            "min_height": null,
            "padding": null,
            "grid_auto_rows": null,
            "grid_gap": null,
            "max_width": null,
            "order": null,
            "_view_module_version": "1.2.0",
            "grid_template_areas": null,
            "object_position": null,
            "object_fit": null,
            "grid_auto_columns": null,
            "margin": null,
            "display": null,
            "left": null
          }
        },
        "6605007a163b4e738a7395881d4a143b": {
          "model_module": "@jupyter-widgets/base",
          "model_name": "LayoutModel",
          "state": {
            "_view_name": "LayoutView",
            "grid_template_rows": null,
            "right": null,
            "justify_content": null,
            "_view_module": "@jupyter-widgets/base",
            "overflow": null,
            "_model_module_version": "1.2.0",
            "_view_count": null,
            "flex_flow": null,
            "width": null,
            "min_width": null,
            "border": null,
            "align_items": null,
            "bottom": null,
            "_model_module": "@jupyter-widgets/base",
            "top": null,
            "grid_column": null,
            "overflow_y": null,
            "overflow_x": null,
            "grid_auto_flow": null,
            "grid_area": null,
            "grid_template_columns": null,
            "flex": null,
            "_model_name": "LayoutModel",
            "justify_items": null,
            "grid_row": null,
            "max_height": null,
            "align_content": null,
            "visibility": null,
            "align_self": null,
            "height": null,
            "min_height": null,
            "padding": null,
            "grid_auto_rows": null,
            "grid_gap": null,
            "max_width": null,
            "order": null,
            "_view_module_version": "1.2.0",
            "grid_template_areas": null,
            "object_position": null,
            "object_fit": null,
            "grid_auto_columns": null,
            "margin": null,
            "display": null,
            "left": null
          }
        },
        "55cf39959bfd4141beb6c2311c62587e": {
          "model_module": "@jupyter-widgets/controls",
          "model_name": "VBoxModel",
          "state": {
            "_view_name": "VBoxView",
            "_dom_classes": [
              "widget-interact"
            ],
            "_model_name": "VBoxModel",
            "_view_module": "@jupyter-widgets/controls",
            "_model_module_version": "1.5.0",
            "_view_count": null,
            "_view_module_version": "1.5.0",
            "box_style": "",
            "layout": "IPY_MODEL_9f11488c7ba845a79f665cac4eae029c",
            "_model_module": "@jupyter-widgets/controls",
            "children": [
              "IPY_MODEL_ac2140d1ee2d44f3931515ce4e195692",
              "IPY_MODEL_985640fef21a45008c260ec21a271b61"
            ]
          }
        },
        "9f11488c7ba845a79f665cac4eae029c": {
          "model_module": "@jupyter-widgets/base",
          "model_name": "LayoutModel",
          "state": {
            "_view_name": "LayoutView",
            "grid_template_rows": null,
            "right": null,
            "justify_content": null,
            "_view_module": "@jupyter-widgets/base",
            "overflow": null,
            "_model_module_version": "1.2.0",
            "_view_count": null,
            "flex_flow": null,
            "width": null,
            "min_width": null,
            "border": null,
            "align_items": null,
            "bottom": null,
            "_model_module": "@jupyter-widgets/base",
            "top": null,
            "grid_column": null,
            "overflow_y": null,
            "overflow_x": null,
            "grid_auto_flow": null,
            "grid_area": null,
            "grid_template_columns": null,
            "flex": null,
            "_model_name": "LayoutModel",
            "justify_items": null,
            "grid_row": null,
            "max_height": null,
            "align_content": null,
            "visibility": null,
            "align_self": null,
            "height": null,
            "min_height": null,
            "padding": null,
            "grid_auto_rows": null,
            "grid_gap": null,
            "max_width": null,
            "order": null,
            "_view_module_version": "1.2.0",
            "grid_template_areas": null,
            "object_position": null,
            "object_fit": null,
            "grid_auto_columns": null,
            "margin": null,
            "display": null,
            "left": null
          }
        },
        "ac2140d1ee2d44f3931515ce4e195692": {
          "model_module": "@jupyter-widgets/controls",
          "model_name": "FloatSliderModel",
          "state": {
            "_view_name": "FloatSliderView",
            "style": "IPY_MODEL_141e31c24df242dea95ca07d5612e0fa",
            "_dom_classes": [],
            "description": "v",
            "step": 0.01,
            "_model_name": "FloatSliderModel",
            "orientation": "horizontal",
            "max": 0.25,
            "_view_module": "@jupyter-widgets/controls",
            "_model_module_version": "1.5.0",
            "value": 0,
            "_view_count": null,
            "disabled": false,
            "_view_module_version": "1.5.0",
            "min": -0.25,
            "continuous_update": true,
            "readout_format": ".2f",
            "description_tooltip": null,
            "readout": true,
            "_model_module": "@jupyter-widgets/controls",
            "layout": "IPY_MODEL_23284cb0f99a46cbb79aa6a2c12d175f"
          }
        },
        "985640fef21a45008c260ec21a271b61": {
          "model_module": "@jupyter-widgets/output",
          "model_name": "OutputModel",
          "state": {
            "_view_name": "OutputView",
            "msg_id": "",
            "_dom_classes": [],
            "_model_name": "OutputModel",
            "outputs": [
              {
                "output_type": "display_data",
                "metadata": {
                  "tags": [],
                  "needs_background": "light"
                },
                "image/png": "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\n",
                "text/plain": "<Figure size 360x360 with 1 Axes>"
              }
            ],
            "_view_module": "@jupyter-widgets/output",
            "_model_module_version": "1.0.0",
            "_view_count": null,
            "_view_module_version": "1.0.0",
            "layout": "IPY_MODEL_40e71db7400c4217897fa5f1dedaf025",
            "_model_module": "@jupyter-widgets/output"
          }
        },
        "141e31c24df242dea95ca07d5612e0fa": {
          "model_module": "@jupyter-widgets/controls",
          "model_name": "SliderStyleModel",
          "state": {
            "_view_name": "StyleView",
            "handle_color": null,
            "_model_name": "SliderStyleModel",
            "description_width": "",
            "_view_module": "@jupyter-widgets/base",
            "_model_module_version": "1.5.0",
            "_view_count": null,
            "_view_module_version": "1.2.0",
            "_model_module": "@jupyter-widgets/controls"
          }
        },
        "23284cb0f99a46cbb79aa6a2c12d175f": {
          "model_module": "@jupyter-widgets/base",
          "model_name": "LayoutModel",
          "state": {
            "_view_name": "LayoutView",
            "grid_template_rows": null,
            "right": null,
            "justify_content": null,
            "_view_module": "@jupyter-widgets/base",
            "overflow": null,
            "_model_module_version": "1.2.0",
            "_view_count": null,
            "flex_flow": null,
            "width": null,
            "min_width": null,
            "border": null,
            "align_items": null,
            "bottom": null,
            "_model_module": "@jupyter-widgets/base",
            "top": null,
            "grid_column": null,
            "overflow_y": null,
            "overflow_x": null,
            "grid_auto_flow": null,
            "grid_area": null,
            "grid_template_columns": null,
            "flex": null,
            "_model_name": "LayoutModel",
            "justify_items": null,
            "grid_row": null,
            "max_height": null,
            "align_content": null,
            "visibility": null,
            "align_self": null,
            "height": null,
            "min_height": null,
            "padding": null,
            "grid_auto_rows": null,
            "grid_gap": null,
            "max_width": null,
            "order": null,
            "_view_module_version": "1.2.0",
            "grid_template_areas": null,
            "object_position": null,
            "object_fit": null,
            "grid_auto_columns": null,
            "margin": null,
            "display": null,
            "left": null
          }
        },
        "40e71db7400c4217897fa5f1dedaf025": {
          "model_module": "@jupyter-widgets/base",
          "model_name": "LayoutModel",
          "state": {
            "_view_name": "LayoutView",
            "grid_template_rows": null,
            "right": null,
            "justify_content": null,
            "_view_module": "@jupyter-widgets/base",
            "overflow": null,
            "_model_module_version": "1.2.0",
            "_view_count": null,
            "flex_flow": null,
            "width": null,
            "min_width": null,
            "border": null,
            "align_items": null,
            "bottom": null,
            "_model_module": "@jupyter-widgets/base",
            "top": null,
            "grid_column": null,
            "overflow_y": null,
            "overflow_x": null,
            "grid_auto_flow": null,
            "grid_area": null,
            "grid_template_columns": null,
            "flex": null,
            "_model_name": "LayoutModel",
            "justify_items": null,
            "grid_row": null,
            "max_height": null,
            "align_content": null,
            "visibility": null,
            "align_self": null,
            "height": null,
            "min_height": null,
            "padding": null,
            "grid_auto_rows": null,
            "grid_gap": null,
            "max_width": null,
            "order": null,
            "_view_module_version": "1.2.0",
            "grid_template_areas": null,
            "object_position": null,
            "object_fit": null,
            "grid_auto_columns": null,
            "margin": null,
            "display": null,
            "left": null
          }
        },
        "a8590c734df3491f841e08b0c72a08bd": {
          "model_module": "@jupyter-widgets/controls",
          "model_name": "VBoxModel",
          "state": {
            "_view_name": "VBoxView",
            "_dom_classes": [
              "widget-interact"
            ],
            "_model_name": "VBoxModel",
            "_view_module": "@jupyter-widgets/controls",
            "_model_module_version": "1.5.0",
            "_view_count": null,
            "_view_module_version": "1.5.0",
            "box_style": "",
            "layout": "IPY_MODEL_4a200c0550a64ba393c333e2f55fb0ee",
            "_model_module": "@jupyter-widgets/controls",
            "children": [
              "IPY_MODEL_01e75a2b153c4b1b8e1db0646524cc3e",
              "IPY_MODEL_d10631e1780145bbbb322ffeea4f0173"
            ]
          }
        },
        "4a200c0550a64ba393c333e2f55fb0ee": {
          "model_module": "@jupyter-widgets/base",
          "model_name": "LayoutModel",
          "state": {
            "_view_name": "LayoutView",
            "grid_template_rows": null,
            "right": null,
            "justify_content": null,
            "_view_module": "@jupyter-widgets/base",
            "overflow": null,
            "_model_module_version": "1.2.0",
            "_view_count": null,
            "flex_flow": null,
            "width": null,
            "min_width": null,
            "border": null,
            "align_items": null,
            "bottom": null,
            "_model_module": "@jupyter-widgets/base",
            "top": null,
            "grid_column": null,
            "overflow_y": null,
            "overflow_x": null,
            "grid_auto_flow": null,
            "grid_area": null,
            "grid_template_columns": null,
            "flex": null,
            "_model_name": "LayoutModel",
            "justify_items": null,
            "grid_row": null,
            "max_height": null,
            "align_content": null,
            "visibility": null,
            "align_self": null,
            "height": null,
            "min_height": null,
            "padding": null,
            "grid_auto_rows": null,
            "grid_gap": null,
            "max_width": null,
            "order": null,
            "_view_module_version": "1.2.0",
            "grid_template_areas": null,
            "object_position": null,
            "object_fit": null,
            "grid_auto_columns": null,
            "margin": null,
            "display": null,
            "left": null
          }
        },
        "01e75a2b153c4b1b8e1db0646524cc3e": {
          "model_module": "@jupyter-widgets/controls",
          "model_name": "FloatSliderModel",
          "state": {
            "_view_name": "FloatSliderView",
            "style": "IPY_MODEL_ef679e0b1ddd4845b7f2cd57628cb9be",
            "_dom_classes": [],
            "description": "v",
            "step": 0.01,
            "_model_name": "FloatSliderModel",
            "orientation": "horizontal",
            "max": 0.9,
            "_view_module": "@jupyter-widgets/controls",
            "_model_module_version": "1.5.0",
            "value": 0,
            "_view_count": null,
            "disabled": false,
            "_view_module_version": "1.5.0",
            "min": -0.9,
            "continuous_update": true,
            "readout_format": ".2f",
            "description_tooltip": null,
            "readout": true,
            "_model_module": "@jupyter-widgets/controls",
            "layout": "IPY_MODEL_aed7a849181a4e3283ac9ea4839a6a36"
          }
        },
        "d10631e1780145bbbb322ffeea4f0173": {
          "model_module": "@jupyter-widgets/output",
          "model_name": "OutputModel",
          "state": {
            "_view_name": "OutputView",
            "msg_id": "",
            "_dom_classes": [],
            "_model_name": "OutputModel",
            "outputs": [
              {
                "output_type": "display_data",
                "metadata": {
                  "tags": [],
                  "needs_background": "light"
                },
                "image/png": "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\n",
                "text/plain": "<Figure size 360x360 with 1 Axes>"
              }
            ],
            "_view_module": "@jupyter-widgets/output",
            "_model_module_version": "1.0.0",
            "_view_count": null,
            "_view_module_version": "1.0.0",
            "layout": "IPY_MODEL_42e4cb47302f4c3793742183383e9774",
            "_model_module": "@jupyter-widgets/output"
          }
        },
        "ef679e0b1ddd4845b7f2cd57628cb9be": {
          "model_module": "@jupyter-widgets/controls",
          "model_name": "SliderStyleModel",
          "state": {
            "_view_name": "StyleView",
            "handle_color": null,
            "_model_name": "SliderStyleModel",
            "description_width": "",
            "_view_module": "@jupyter-widgets/base",
            "_model_module_version": "1.5.0",
            "_view_count": null,
            "_view_module_version": "1.2.0",
            "_model_module": "@jupyter-widgets/controls"
          }
        },
        "aed7a849181a4e3283ac9ea4839a6a36": {
          "model_module": "@jupyter-widgets/base",
          "model_name": "LayoutModel",
          "state": {
            "_view_name": "LayoutView",
            "grid_template_rows": null,
            "right": null,
            "justify_content": null,
            "_view_module": "@jupyter-widgets/base",
            "overflow": null,
            "_model_module_version": "1.2.0",
            "_view_count": null,
            "flex_flow": null,
            "width": null,
            "min_width": null,
            "border": null,
            "align_items": null,
            "bottom": null,
            "_model_module": "@jupyter-widgets/base",
            "top": null,
            "grid_column": null,
            "overflow_y": null,
            "overflow_x": null,
            "grid_auto_flow": null,
            "grid_area": null,
            "grid_template_columns": null,
            "flex": null,
            "_model_name": "LayoutModel",
            "justify_items": null,
            "grid_row": null,
            "max_height": null,
            "align_content": null,
            "visibility": null,
            "align_self": null,
            "height": null,
            "min_height": null,
            "padding": null,
            "grid_auto_rows": null,
            "grid_gap": null,
            "max_width": null,
            "order": null,
            "_view_module_version": "1.2.0",
            "grid_template_areas": null,
            "object_position": null,
            "object_fit": null,
            "grid_auto_columns": null,
            "margin": null,
            "display": null,
            "left": null
          }
        },
        "42e4cb47302f4c3793742183383e9774": {
          "model_module": "@jupyter-widgets/base",
          "model_name": "LayoutModel",
          "state": {
            "_view_name": "LayoutView",
            "grid_template_rows": null,
            "right": null,
            "justify_content": null,
            "_view_module": "@jupyter-widgets/base",
            "overflow": null,
            "_model_module_version": "1.2.0",
            "_view_count": null,
            "flex_flow": null,
            "width": null,
            "min_width": null,
            "border": null,
            "align_items": null,
            "bottom": null,
            "_model_module": "@jupyter-widgets/base",
            "top": null,
            "grid_column": null,
            "overflow_y": null,
            "overflow_x": null,
            "grid_auto_flow": null,
            "grid_area": null,
            "grid_template_columns": null,
            "flex": null,
            "_model_name": "LayoutModel",
            "justify_items": null,
            "grid_row": null,
            "max_height": null,
            "align_content": null,
            "visibility": null,
            "align_self": null,
            "height": null,
            "min_height": null,
            "padding": null,
            "grid_auto_rows": null,
            "grid_gap": null,
            "max_width": null,
            "order": null,
            "_view_module_version": "1.2.0",
            "grid_template_areas": null,
            "object_position": null,
            "object_fit": null,
            "grid_auto_columns": null,
            "margin": null,
            "display": null,
            "left": null
          }
        },
        "b34d5e75a978404d897e90596c1fe2fa": {
          "model_module": "@jupyter-widgets/controls",
          "model_name": "VBoxModel",
          "state": {
            "_view_name": "VBoxView",
            "_dom_classes": [
              "widget-interact"
            ],
            "_model_name": "VBoxModel",
            "_view_module": "@jupyter-widgets/controls",
            "_model_module_version": "1.5.0",
            "_view_count": null,
            "_view_module_version": "1.5.0",
            "box_style": "",
            "layout": "IPY_MODEL_b955f5fa41154ad9be3f909025d30484",
            "_model_module": "@jupyter-widgets/controls",
            "children": [
              "IPY_MODEL_eadcdfe237584f35ab47eda9936c337c",
              "IPY_MODEL_b26f75b5ce8f4824a6e69d2e559f6b7c"
            ]
          }
        },
        "b955f5fa41154ad9be3f909025d30484": {
          "model_module": "@jupyter-widgets/base",
          "model_name": "LayoutModel",
          "state": {
            "_view_name": "LayoutView",
            "grid_template_rows": null,
            "right": null,
            "justify_content": null,
            "_view_module": "@jupyter-widgets/base",
            "overflow": null,
            "_model_module_version": "1.2.0",
            "_view_count": null,
            "flex_flow": null,
            "width": null,
            "min_width": null,
            "border": null,
            "align_items": null,
            "bottom": null,
            "_model_module": "@jupyter-widgets/base",
            "top": null,
            "grid_column": null,
            "overflow_y": null,
            "overflow_x": null,
            "grid_auto_flow": null,
            "grid_area": null,
            "grid_template_columns": null,
            "flex": null,
            "_model_name": "LayoutModel",
            "justify_items": null,
            "grid_row": null,
            "max_height": null,
            "align_content": null,
            "visibility": null,
            "align_self": null,
            "height": null,
            "min_height": null,
            "padding": null,
            "grid_auto_rows": null,
            "grid_gap": null,
            "max_width": null,
            "order": null,
            "_view_module_version": "1.2.0",
            "grid_template_areas": null,
            "object_position": null,
            "object_fit": null,
            "grid_auto_columns": null,
            "margin": null,
            "display": null,
            "left": null
          }
        },
        "eadcdfe237584f35ab47eda9936c337c": {
          "model_module": "@jupyter-widgets/controls",
          "model_name": "FloatSliderModel",
          "state": {
            "_view_name": "FloatSliderView",
            "style": "IPY_MODEL_511b04598d73474e8ef3e71eb84b60e1",
            "_dom_classes": [],
            "description": "v",
            "step": 0.01,
            "_model_name": "FloatSliderModel",
            "orientation": "horizontal",
            "max": 0.9,
            "_view_module": "@jupyter-widgets/controls",
            "_model_module_version": "1.5.0",
            "value": 0,
            "_view_count": null,
            "disabled": false,
            "_view_module_version": "1.5.0",
            "min": -0.9,
            "continuous_update": true,
            "readout_format": ".2f",
            "description_tooltip": null,
            "readout": true,
            "_model_module": "@jupyter-widgets/controls",
            "layout": "IPY_MODEL_80533b68bc7444259b184a7fb2be041e"
          }
        },
        "b26f75b5ce8f4824a6e69d2e559f6b7c": {
          "model_module": "@jupyter-widgets/output",
          "model_name": "OutputModel",
          "state": {
            "_view_name": "OutputView",
            "msg_id": "",
            "_dom_classes": [],
            "_model_name": "OutputModel",
            "outputs": [
              {
                "output_type": "display_data",
                "metadata": {
                  "tags": [],
                  "needs_background": "light"
                },
                "image/png": "iVBORw0KGgoAAAANSUhEUgAAAUcAAAFBCAYAAADkEG12AAAABHNCSVQICAgIfAhkiAAAAAlwSFlzAAALEgAACxIB0t1+/AAAADh0RVh0U29mdHdhcmUAbWF0cGxvdGxpYiB2ZXJzaW9uMy4yLjEsIGh0dHA6Ly9tYXRwbG90bGliLm9yZy+j8jraAAASNklEQVR4nO3de7RnZV3H8fcn8AZZQnM0BUZwRFhmiHR0eckck3Q0lNSspkgxVtNFxTsqmrpWuhblLc2yNckwLKNxeS1EA8kSvKA1KJdBME1RB9EZRNQ0RZxvf/z2tI7H55zzmzmzf/vMOe/XWr91zn72Pvv5qvDx2Zfn+aWqkCT9uJ8augBJWooMR0lqMBwlqcFwlKQGw1GSGgxHSWroLRyTbEqyI8m2We3PSnJdkmuS/GVf/UvSYvQ5ctwMrJvZkOSRwMnA/avqF4DX9ti/JO213sKxqi4Fbp7V/CfAWVX1g+6YHX31L0mLMel7jvcBHp7kk0kuSfLACfcvSWM5cID+DgUeDDwQeEeSe1VjDmOSDcAGgIMPPviXjj322IkWKmn5u/zyy2+qqqnWvkmH43bgPV0Y/keSXcAqYOfsA6tqI7ARYHp6urZu3TrRQiUtf0m+NNe+SV9W/xPwSIAk9wFuD9w04RokaUG9jRyTbAHWAquSbAdeAWwCNnWv99wKPK11SS1JQ+stHKtq/Ry7TumrT0naV5whI0kNhqMkNRiOktRgOEpSg+EoSQ2GoyQ1GI6S1GA4SlKD4ShJDYajJDUYjpLUYDhKUoPhKEkNhqMkNRiOktRgOEpSg+EoSQ2GoyQ1GI6S1GA4SlKD4ShJDYajJDUYjpLUYDhKUoPhKEkNhqMkNRiOktRgOEpSg+EoSQ2GoyQ1GI6S1GA4SlKD4ShJDYajJDUYjpLUYDhKUkNv4ZhkU5IdSbbNaHtlkhuSXNF9HtdX/5K0GH2OHDcD6xrtb6iq47vPB3rsX5L2Wm/hWFWXAjf3dX5J6tMQ9xyfmeSq7rL7kAH6l6QFTToc3wKsAY4HbgReN9eBSTYk2Zpk686dOydVnyQBEw7Hqvp6Vf2oqnYBfw88aJ5jN1bVdFVNT01NTa5ISWLC4Zjk7jM2nwhsm+tYSRrSgX2dOMkWYC2wKsl24BXA2iTHAwVcD/xRX/1L0mL0Fo5Vtb7RfHZf/UnSvuQMGUlqMBwlqcFwlKQGw1GSGgxHSWowHCWpwXCUpAbDUZIaDEdJajAcJanBcJSkBsNRkhoMR0lqMBwlqcFwlKQGw1GSGgxHSWowHCWpwXCUpAbDUZIaDEdJajAcJanBcJSkBsNRkhoMR0lqMBwlqcFwlKQGw1GSGgxHSWowHCWpwXCUpAbDUZIaDEdJajAcJanBcJSkBsNRkhoMR0lq6C0ck2xKsiPJtsa+5yepJKv66l+SFqPPkeNmYN3sxiRHAI8Gvtxj35K0KL2FY1VdCtzc2PUG4Ayg+upbkhZrovcck5wM3FBVV06yX0naUwdOqqMkBwFnMrqkHuf4DcAGgNWrV/dYmST9pEmOHNcARwFXJrkeOBz4VJKfbx1cVRurarqqpqempiZYpiRNcORYVVcDd9293QXkdFXdNKkaJGlcfb7KswW4DDgmyfYkp/XVlyTta72NHKtq/QL7j+yrb0laLGfISFKD4ShJDYajJDUYjpLUYDhKUoPhKEkNhqMkNRiOktRgOEpSw4LhmGRNkjt0v69NcnqSu/RfmiQNZ5yR47uBHyW5N7AROAL4x16rkqSBjROOu6rqNuCJwF9X1QuBu/dbliQNa5xw/GGS9cDTgAu6ttv1V5IkDW+ccHw68BDg1VX1xSRHAW/rtyxJGtaCS5ZV1WeSvAhY3W1/EfiLvguTpCGN87T68cAVwIXd9vFJzu+7MEka0jiX1a8EHgTcAlBVVwD36rEmSRrcWA9kqupbs9p29VGMJC0V43xNwjVJfhc4IMnRwOnAx/stS5KGNc7I8VnALwA/YPTy97eA5/RZlCQNbZyn1d8DXtp9JGlFGOdp9cUz51InOSTJRf2WJUnDGueyelVV3bJ7o6q+Cdy1v5IkaXhjza1Osnr3RpJ7AtVfSZI0vHGeVr8U+GiSS4AADwc29FqVJA1snAcyFyY5AXhw1/Scqrqp37IkaVhzXlYnObb7eQKjedVf7T6ruzZJWrbmGzk+j9Hl8+sa+wr41V4qkqQlYM5wrKrd9xUfW1Xfn7kvyR17rUqSBjbO0+rWVEGnD0pa1uYcOSb5eeAw4E5JHsDoSTXAzwAHTaA2SRrMfPccHwOcChzO6L7j7nD8NnBmv2VJ0rDmu+d4bpK3Aeur6rwJ1iRJg5v3nmNV7QKeO6FaJGnJGOeBzL8meUGSI5IcuvvTe2WSNKBxpg/+dvfzGTPaCr8qQdIyNs70waP25sRJNgEnATuq6n5d258DJzP6moUdwKlV9dW9Ob8k9Wmc9RwPSvKyJBu77aOTnDTGuTcD62a1vaaqjquq44ELgJfvacGSNAnj3HM8B7gVeGi3fQPwqoX+qKouBW6e1fbtGZsH49Jnkpaoce45rqmq306yHkZfm5AkC/3RXJK8Gngqo++ieeTenkeS+jTOyPHWJHeiG+UlWcPoy7b2SlW9tKqOAM4DnjnXcUk2JNmaZOvOnTv3tjtJ2ivjhOMrgQuBI5KcB3wIOGMf9H0e8OS5dlbVxqqarqrpqampfdCdJI1vnKfVH0xyOaPFbgM8e28Xu01ydFV9rts8Gbhub84jSX1bMByTvI/R91WfX1XfHffESbYAa4FVSbYDrwAel+QYRq/yfAn4470pWpL6Ns4DmdcyehH8rCT/CbwduGD2Go+zVdX6RvPZe16iJE3eOJfVlwCXJDmA0erffwhsYrR0mSQtS+OMHOmeVj+e0QjyBODcPouSpKGNc8/xHcCDGD2xfjNwSbdajyQtW+OMHM9mtKbjj/ouRpKWinHuOV40iUIkaSkZ5yVwSVpx5gzHJA/rft5hcuVI0tIw38jxTd3PyyZRiCQtJfPdc/xht4bjYUneNHtnVZ3eX1mSNKz5wvEk4ERGX9F6+WTKkaSlYb6vZr0JeHuSa6vqygnWJEmDG+dp9TeSvDfJju7z7iSH916ZJA1o3K9JOB+4R/d5X9cmScvWOOF416o6p6pu6z6bAVeflbSsjROONyU5JckB3ecU4Bt9FyZJQxonHP8A+C3ga8CNwG8CT++zKEka2jhzq78EPGECtUjSkuHcaklqMBwlqcFwlKSGBcMxyctm/O4KPZJWhPmWLHtRkocwejq9myv0SFoR5ntafR3wFOBeST7Sbf9ckmOq6rMTqU6SBjLfZfUtwJnA54G1wBu79hcn+XjPdUnSoOYbOT4GeDmwBng9cBXw3aryBXBJy96cI8eqOrOqHgVcD7wNOACYSvLRJO+bUH2SNIhxvpr1oqraCmxN8idV9ctJVvVdmCQNacFXearqjBmbp3ZtN/VVkCQtBXv0ErgrgktaKZwhI0kNhqMkNRiOktRgOEpSg+EoSQ2GoyQ1GI6S1NBbOCbZlGRHkm0z2l6T5LokVyV5b5K79NW/JC1GnyPHzcC6WW0XA/erquOA/wJe0mP/krTXegvHqroUuHlW2wer6rZu8xPA4X31L0mLMeQ9xz8A/mXA/iVpTuOsyrPPJXkpcBtw3jzHbAA2AKxevXrPO/nwh/euuJnWru3/nH2d11qt1VoXZeIjxySnAicBv1dVNddxVbWxqqaranpqampi9UkSTHjkmGQdcAbwiKr63iT7lqQ90eerPFsYfVvhMUm2JzkNeDNwZ+DiJFck+bu++pekxeht5FhV6xvNZ/fVnyTtS86QkaQGw1GSGgxHSWowHCWpwXCUpAbDUZIaDEdJajAcJanBcJSkBsNRkhoMR0lqMBwlqcFwlKQGw1GSGgxHSWowHCWpwXCUpAbDUZIaDEdJajAcJanBcJSkBsNRkhoMR0lqMBwlqcFwlKQGw1GSGgxHSWowHCWpwXCUpAbDUZIaDEdJajAcJanBcJSkBsNRkhoMR0lqMBwlqcFwlKSG3sIxyaYkO5Jsm9H2lCTXJNmVZLqvviVpsfocOW4G1s1q2wY8Cbi0x34ladEO7OvEVXVpkiNntV0LkKSvbiVpn/CeoyQ1LNlwTLIhydYkW3fu3Dl0OZJWmCUbjlW1saqmq2p6ampq6HIkrTBLNhwlaUh9vsqzBbgMOCbJ9iSnJXliku3AQ4D3J7mor/4laTH6fFq9fo5d7+2rT0naV7yslqQGw1GSGgxHSWowHCWpwXCUpAbDUZIaDEdJajAcJanBcJSkBsNRkhoMR0lqMBwlqcFwlKQGw1GSGgxHSWowHCWpwXCUpAbDUZIaDEdJajAcJanBcJSkBsNRkhoMR0lqMBwlqcFwlKQGw1GSGgxHSWowHCWpwXCUpAbDUZIaDEdJajAcJanBcJSkBsNRkhoMR0lqMBwlqaG3cEyyKcmOJNtmtB2a5OIkn+t+HtJX/5K0GH2OHDcD62a1vRj4UFUdDXyo25akJae3cKyqS4GbZzWfDJzb/X4u8Bt99S9JizHpe453q6obu9+/Btxtwv1L0lgOHKrjqqokNdf+JBuADd3m/yT57D4uYRVw0z4+Z1+stR/W2o/9qdZ7zrVj0uH49SR3r6obk9wd2DHXgVW1EdjYVyFJtlbVdF/n35estR/W2o/9qdb5TPqy+nzgad3vTwP+ecL9S9JY+nyVZwtwGXBMku1JTgPOAn4tyeeAE7ttSVpyerusrqr1c+x6VF997qHeLtl7YK39sNZ+7E+1zilVcz4TkaQVy+mDktSwIsMxybokn03y+SRLdpZOkiOS/HuSzyS5Jsmzh65pIUkOSPLpJBcMXct8ktwlybuSXJfk2iQPGbqmuSR5bve//7YkW5LcceiadlvO04RXXDgmOQD4G+CxwH2B9UnuO2xVc7oNeH5V3Rd4MPCMJVzrbs8Grh26iDG8Ebiwqo4F7s8SrTnJYcDpwHRV3Q84APidYav6MZtZptOEV1w4Ag8CPl9VX6iqW4G3M5rWuORU1Y1V9anu9+8w+hf4sGGrmluSw4FfB946dC3zSfKzwK8AZwNU1a1VdcuwVc3rQOBOSQ4EDgK+OnA9/285TxNeieF4GPCVGdvbWcKBs1uSI4EHAJ8ctpJ5/RVwBrBr6EIWcBSwEzinuwXw1iQHD11US1XdALwW+DJwI/CtqvrgsFUtaFlME16J4bjfSfLTwLuB51TVt4eupyXJScCOqrp86FrGcCBwAvCWqnoA8F2W6KVfd7/uZEaBfg/g4CSnDFvV+Gr0Osx++UrMSgzHG4AjZmwf3rUtSUluxygYz6uq9wxdzzweBjwhyfWMblX8apJ/GLakOW0HtlfV7lH4uxiF5VJ0IvDFqtpZVT8E3gM8dOCaFvL1bnowC00TXspWYjj+J3B0kqOS3J7Rze3zB66pKUkY3Re7tqpeP3Q986mql1TV4VV1JKP/Tv+tqpbkCKeqvgZ8JckxXdOjgM8MWNJ8vgw8OMlB3T8Pj2KJPjyaYVlMEx5sVZ6hVNVtSZ4JXMToyd+mqrpm4LLm8jDg94Grk1zRtZ1ZVR8YsKbl4lnAed3/QX4BePrA9TRV1SeTvAv4FKO3Fz7NEpqB0k0TXgusSrIdeAWjacHv6KYMfwn4reEq3HvOkJGkhpV4WS1JCzIcJanBcJSkBsNRkhoMR0lqMBw1Ud1qOH86Y/se3asqk+j7yN2rxySZTvKmSfSr/ZOv8miiujniF3QrzKyYvrX/ceSoSTsLWJPkiiSvmTWaOzXJP3VrAF6f5JlJntctDvGJJId2x61JcmGSy5N8JMmxsztJ8oiujyu6v7/zrP1rd685meSnk5yT5OokVyV5ctf+6CSXJflUknd2c9y1QhiOmrQXA/9dVcdX1Qsb++8HPAl4IPBq4Hvd4hCXAU/tjtkIPKuqfgl4AfC3jfO8AHhGVR0PPBz433lq+jNGq938YlUdB/xbklXAy4ATq+oEYCvwvD38z6r92IqbPqgl79+7tSu/k+RbwPu69quB47rR20OBd46mGgNwh8Z5Pga8Psl5wHuqavuM42c7kRkLyFbVN7tVhu4LfKz7u9szCmitEIajlpofzPh914ztXYz+ef0p4JZuRDinqjoryfuBxzEKuMcA39+DOgJcPM+3aGqZ87Jak/Yd4M4LHjWHbj3LLyZ5CoxWLkpy/9nHJVlTVVdX1V8wWonpJ+5LznAx8IwZf3sI8AngYUnu3bUdnOQ+e1u39j+Goyaqqr7BaCS3Lclr9vI0vwecluRK4BraX3PxnK6Pq4AfAv8yz/leBRzSHX8l8Miq2gmcCmzpznEZ8weslhlf5ZGkBkeOktRgOEpSg+EoSQ2GoyQ1GI6S1GA4SlKD4ShJDYajJDX8H2RZb/b9UVsyAAAAAElFTkSuQmCC\n",
                "text/plain": "<Figure size 360x360 with 1 Axes>"
              }
            ],
            "_view_module": "@jupyter-widgets/output",
            "_model_module_version": "1.0.0",
            "_view_count": null,
            "_view_module_version": "1.0.0",
            "layout": "IPY_MODEL_5c1060c2a21345d3bcd6a0e9b44d8c20",
            "_model_module": "@jupyter-widgets/output"
          }
        },
        "511b04598d73474e8ef3e71eb84b60e1": {
          "model_module": "@jupyter-widgets/controls",
          "model_name": "SliderStyleModel",
          "state": {
            "_view_name": "StyleView",
            "handle_color": null,
            "_model_name": "SliderStyleModel",
            "description_width": "",
            "_view_module": "@jupyter-widgets/base",
            "_model_module_version": "1.5.0",
            "_view_count": null,
            "_view_module_version": "1.2.0",
            "_model_module": "@jupyter-widgets/controls"
          }
        },
        "80533b68bc7444259b184a7fb2be041e": {
          "model_module": "@jupyter-widgets/base",
          "model_name": "LayoutModel",
          "state": {
            "_view_name": "LayoutView",
            "grid_template_rows": null,
            "right": null,
            "justify_content": null,
            "_view_module": "@jupyter-widgets/base",
            "overflow": null,
            "_model_module_version": "1.2.0",
            "_view_count": null,
            "flex_flow": null,
            "width": null,
            "min_width": null,
            "border": null,
            "align_items": null,
            "bottom": null,
            "_model_module": "@jupyter-widgets/base",
            "top": null,
            "grid_column": null,
            "overflow_y": null,
            "overflow_x": null,
            "grid_auto_flow": null,
            "grid_area": null,
            "grid_template_columns": null,
            "flex": null,
            "_model_name": "LayoutModel",
            "justify_items": null,
            "grid_row": null,
            "max_height": null,
            "align_content": null,
            "visibility": null,
            "align_self": null,
            "height": null,
            "min_height": null,
            "padding": null,
            "grid_auto_rows": null,
            "grid_gap": null,
            "max_width": null,
            "order": null,
            "_view_module_version": "1.2.0",
            "grid_template_areas": null,
            "object_position": null,
            "object_fit": null,
            "grid_auto_columns": null,
            "margin": null,
            "display": null,
            "left": null
          }
        },
        "5c1060c2a21345d3bcd6a0e9b44d8c20": {
          "model_module": "@jupyter-widgets/base",
          "model_name": "LayoutModel",
          "state": {
            "_view_name": "LayoutView",
            "grid_template_rows": null,
            "right": null,
            "justify_content": null,
            "_view_module": "@jupyter-widgets/base",
            "overflow": null,
            "_model_module_version": "1.2.0",
            "_view_count": null,
            "flex_flow": null,
            "width": null,
            "min_width": null,
            "border": null,
            "align_items": null,
            "bottom": null,
            "_model_module": "@jupyter-widgets/base",
            "top": null,
            "grid_column": null,
            "overflow_y": null,
            "overflow_x": null,
            "grid_auto_flow": null,
            "grid_area": null,
            "grid_template_columns": null,
            "flex": null,
            "_model_name": "LayoutModel",
            "justify_items": null,
            "grid_row": null,
            "max_height": null,
            "align_content": null,
            "visibility": null,
            "align_self": null,
            "height": null,
            "min_height": null,
            "padding": null,
            "grid_auto_rows": null,
            "grid_gap": null,
            "max_width": null,
            "order": null,
            "_view_module_version": "1.2.0",
            "grid_template_areas": null,
            "object_position": null,
            "object_fit": null,
            "grid_auto_columns": null,
            "margin": null,
            "display": null,
            "left": null
          }
        },
        "282deacf5576458c98e183a14dedf4d0": {
          "model_module": "@jupyter-widgets/controls",
          "model_name": "VBoxModel",
          "state": {
            "_view_name": "VBoxView",
            "_dom_classes": [
              "widget-interact"
            ],
            "_model_name": "VBoxModel",
            "_view_module": "@jupyter-widgets/controls",
            "_model_module_version": "1.5.0",
            "_view_count": null,
            "_view_module_version": "1.5.0",
            "box_style": "",
            "layout": "IPY_MODEL_07e1d81eb3b74b3db94fb7792f02ced1",
            "_model_module": "@jupyter-widgets/controls",
            "children": [
              "IPY_MODEL_15ecb39a857d4be287b0c38f8a446609",
              "IPY_MODEL_87404bf5287b4a01875f8e65ad8f00f3"
            ]
          }
        },
        "07e1d81eb3b74b3db94fb7792f02ced1": {
          "model_module": "@jupyter-widgets/base",
          "model_name": "LayoutModel",
          "state": {
            "_view_name": "LayoutView",
            "grid_template_rows": null,
            "right": null,
            "justify_content": null,
            "_view_module": "@jupyter-widgets/base",
            "overflow": null,
            "_model_module_version": "1.2.0",
            "_view_count": null,
            "flex_flow": null,
            "width": null,
            "min_width": null,
            "border": null,
            "align_items": null,
            "bottom": null,
            "_model_module": "@jupyter-widgets/base",
            "top": null,
            "grid_column": null,
            "overflow_y": null,
            "overflow_x": null,
            "grid_auto_flow": null,
            "grid_area": null,
            "grid_template_columns": null,
            "flex": null,
            "_model_name": "LayoutModel",
            "justify_items": null,
            "grid_row": null,
            "max_height": null,
            "align_content": null,
            "visibility": null,
            "align_self": null,
            "height": null,
            "min_height": null,
            "padding": null,
            "grid_auto_rows": null,
            "grid_gap": null,
            "max_width": null,
            "order": null,
            "_view_module_version": "1.2.0",
            "grid_template_areas": null,
            "object_position": null,
            "object_fit": null,
            "grid_auto_columns": null,
            "margin": null,
            "display": null,
            "left": null
          }
        },
        "15ecb39a857d4be287b0c38f8a446609": {
          "model_module": "@jupyter-widgets/controls",
          "model_name": "FloatSliderModel",
          "state": {
            "_view_name": "FloatSliderView",
            "style": "IPY_MODEL_f73a260001f44f978a72d83706a8c865",
            "_dom_classes": [],
            "description": "v",
            "step": 0.01,
            "_model_name": "FloatSliderModel",
            "orientation": "horizontal",
            "max": 0.9,
            "_view_module": "@jupyter-widgets/controls",
            "_model_module_version": "1.5.0",
            "value": 0,
            "_view_count": null,
            "disabled": false,
            "_view_module_version": "1.5.0",
            "min": -0.9,
            "continuous_update": true,
            "readout_format": ".2f",
            "description_tooltip": null,
            "readout": true,
            "_model_module": "@jupyter-widgets/controls",
            "layout": "IPY_MODEL_4c399c2010a647398209804dbd7a4e44"
          }
        },
        "87404bf5287b4a01875f8e65ad8f00f3": {
          "model_module": "@jupyter-widgets/output",
          "model_name": "OutputModel",
          "state": {
            "_view_name": "OutputView",
            "msg_id": "",
            "_dom_classes": [],
            "_model_name": "OutputModel",
            "outputs": [
              {
                "output_type": "display_data",
                "metadata": {
                  "tags": [],
                  "needs_background": "light"
                },
                "image/png": "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\n",
                "text/plain": "<Figure size 360x360 with 1 Axes>"
              }
            ],
            "_view_module": "@jupyter-widgets/output",
            "_model_module_version": "1.0.0",
            "_view_count": null,
            "_view_module_version": "1.0.0",
            "layout": "IPY_MODEL_995398185ad6417ca18d1d9580495b18",
            "_model_module": "@jupyter-widgets/output"
          }
        },
        "f73a260001f44f978a72d83706a8c865": {
          "model_module": "@jupyter-widgets/controls",
          "model_name": "SliderStyleModel",
          "state": {
            "_view_name": "StyleView",
            "handle_color": null,
            "_model_name": "SliderStyleModel",
            "description_width": "",
            "_view_module": "@jupyter-widgets/base",
            "_model_module_version": "1.5.0",
            "_view_count": null,
            "_view_module_version": "1.2.0",
            "_model_module": "@jupyter-widgets/controls"
          }
        },
        "4c399c2010a647398209804dbd7a4e44": {
          "model_module": "@jupyter-widgets/base",
          "model_name": "LayoutModel",
          "state": {
            "_view_name": "LayoutView",
            "grid_template_rows": null,
            "right": null,
            "justify_content": null,
            "_view_module": "@jupyter-widgets/base",
            "overflow": null,
            "_model_module_version": "1.2.0",
            "_view_count": null,
            "flex_flow": null,
            "width": null,
            "min_width": null,
            "border": null,
            "align_items": null,
            "bottom": null,
            "_model_module": "@jupyter-widgets/base",
            "top": null,
            "grid_column": null,
            "overflow_y": null,
            "overflow_x": null,
            "grid_auto_flow": null,
            "grid_area": null,
            "grid_template_columns": null,
            "flex": null,
            "_model_name": "LayoutModel",
            "justify_items": null,
            "grid_row": null,
            "max_height": null,
            "align_content": null,
            "visibility": null,
            "align_self": null,
            "height": null,
            "min_height": null,
            "padding": null,
            "grid_auto_rows": null,
            "grid_gap": null,
            "max_width": null,
            "order": null,
            "_view_module_version": "1.2.0",
            "grid_template_areas": null,
            "object_position": null,
            "object_fit": null,
            "grid_auto_columns": null,
            "margin": null,
            "display": null,
            "left": null
          }
        },
        "995398185ad6417ca18d1d9580495b18": {
          "model_module": "@jupyter-widgets/base",
          "model_name": "LayoutModel",
          "state": {
            "_view_name": "LayoutView",
            "grid_template_rows": null,
            "right": null,
            "justify_content": null,
            "_view_module": "@jupyter-widgets/base",
            "overflow": null,
            "_model_module_version": "1.2.0",
            "_view_count": null,
            "flex_flow": null,
            "width": null,
            "min_width": null,
            "border": null,
            "align_items": null,
            "bottom": null,
            "_model_module": "@jupyter-widgets/base",
            "top": null,
            "grid_column": null,
            "overflow_y": null,
            "overflow_x": null,
            "grid_auto_flow": null,
            "grid_area": null,
            "grid_template_columns": null,
            "flex": null,
            "_model_name": "LayoutModel",
            "justify_items": null,
            "grid_row": null,
            "max_height": null,
            "align_content": null,
            "visibility": null,
            "align_self": null,
            "height": null,
            "min_height": null,
            "padding": null,
            "grid_auto_rows": null,
            "grid_gap": null,
            "max_width": null,
            "order": null,
            "_view_module_version": "1.2.0",
            "grid_template_areas": null,
            "object_position": null,
            "object_fit": null,
            "grid_auto_columns": null,
            "margin": null,
            "display": null,
            "left": null
          }
        }
      }
    }
  },
  "cells": [
    {
      "cell_type": "markdown",
      "metadata": {
        "id": "view-in-github",
        "colab_type": "text"
      },
      "source": [
        "<a href=\"https://colab.research.google.com/github/xiaoras/Discretizing-the-Spacetime/blob/master/discretizing_the_spacetime.ipynb\" target=\"_parent\"><img src=\"https://colab.research.google.com/assets/colab-badge.svg\" alt=\"Open In Colab\"/></a>"
      ]
    },
    {
      "cell_type": "markdown",
      "metadata": {
        "id": "HbdcjjwhyOdP",
        "colab_type": "text"
      },
      "source": [
        "Based on:\n",
        "\n",
        "- [F Dowker, J Henson and R D Sorkin, Mod. Phys. Lett. A19 (2004)](https://www.worldscientific.com/doi/abs/10.1142/S0217732304015026)\n",
        "\n",
        "- [R R Coifman and S Lafon. Applied and Computational Harmonic Analysis 21 (2006)](https://www.sciencedirect.com/science/article/pii/S1063520306000546)\n",
        "\n",
        "- [S Varadhan, Comm. Pure Appl. Math. 20 (1967)](https://onlinelibrary.wiley.com/doi/abs/10.1002/cpa.3160200404)"
      ]
    },
    {
      "cell_type": "markdown",
      "metadata": {
        "id": "3nSqdUeQ69r6",
        "colab_type": "text"
      },
      "source": [
        "# 1. A Discretization Procedure that Preserves the Symmetries of the Continuum"
      ]
    },
    {
      "cell_type": "markdown",
      "metadata": {
        "id": "lKHv9nr97D8K",
        "colab_type": "text"
      },
      "source": [
        "Question: can we discretize a continuous space (think about the spacetime) without breaking its symmetries?\n",
        "\n",
        "For simplicity, consider 2-dimensional flat case:\n",
        "\n",
        "- Euclidean space: symmetries are 2-translations and rotations\n",
        "\n",
        "- Minkowski space: symmetries are 2-translations and boosts"
      ]
    },
    {
      "cell_type": "code",
      "metadata": {
        "id": "hTvX3mzvmatK",
        "colab_type": "code",
        "colab": {}
      },
      "source": [
        "import numpy as np\n",
        "import matplotlib.pyplot as plt\n",
        "import networkx as nx"
      ],
      "execution_count": null,
      "outputs": []
    },
    {
      "cell_type": "code",
      "metadata": {
        "id": "hqBIinU5mr_p",
        "colab_type": "code",
        "colab": {}
      },
      "source": [
        "class Vertex():\n",
        "\n",
        "  def __init__(self, coords):\n",
        "    self.coords = coords # a numpy array with x0, x1, .., xD coordinates of the vertex\n",
        "\n",
        "  def dist2(self, v, s): # square distance (s=+1 Euclidean, s=-1 Lorentzian) between the vertex and another vertex v\n",
        "    diff = self.coords - v.coords\n",
        "    return s * diff[0]**2 + diff[1:] @ diff[1:]"
      ],
      "execution_count": null,
      "outputs": []
    },
    {
      "cell_type": "code",
      "metadata": {
        "id": "9A96icntrRW4",
        "colab_type": "code",
        "colab": {}
      },
      "source": [
        "class Cell2d():\n",
        "\n",
        "  def __init__(self, coords, l):\n",
        "    self.coords = coords # coordinates of the bottom-left corener of the cell\n",
        "    self.l = l # length of a side of the cell\n",
        "\n",
        "  def contains(self, v):\n",
        "  # returns True if the cell contains vertex v\n",
        "    diff = v.coords - self.coords \n",
        "    if (0 <= diff[0] < self.l and 0 <= diff[1] < self.l):\n",
        "      return True\n",
        "    return False"
      ],
      "execution_count": null,
      "outputs": []
    },
    {
      "cell_type": "code",
      "metadata": {
        "id": "1xeFof-1oar3",
        "colab_type": "code",
        "colab": {}
      },
      "source": [
        "class Space2d():\n",
        "\n",
        "  def __init__(self, size, l, bulk):\n",
        "    self.size = size # length of a side of space (in Planck units)\n",
        "    self.l = l # size of a single cell (in Planck units)\n",
        "    self.bulk = bulk # percentage of the space's size consisting of the bulk\n",
        "    self.M = int(size/l) # number of cells on a side\n",
        "\n",
        "    self.cells = [] # list of cells (filled by cell_construct())\n",
        "    self.cells_b = [] # list of bulk cells (filled by cell_construct())\n",
        "    self.cell_construct() # fills cells and cells_bulk\n",
        "\n",
        "    self.verts = [] # list of vertices (filled using a 'sprinkle' method)\n",
        "    self.verts_b = [] # list of bulk vertices (filled using a 'sprinkle' method)\n",
        "\n",
        "    self.wghts = np.array([[]]) # nxn matrix (where n is number of vertices): weight of edge between any two vertices\n",
        "    self.epsilon = 0 # epsilon-parameter of heat kernel\n",
        "\n",
        "  # CONSTRUCTION: CELLS\n",
        "\n",
        "  def cell_construct(self):\n",
        "  # construct self.cells and self.cells_b\n",
        "    S = np.linspace(-self.size/2, self.size/2 - 1, self.M)\n",
        "    mesh0, mesh1 = np.meshgrid(S, S)\n",
        "    # mesh0 is a MxM matrix: mesh0[m0, m1] is the coordinate x_0 of cell (m_0, m_1); same for mesh1\n",
        "    for m0 in range(self.M):\n",
        "      for m1 in range(self.M):\n",
        "        x0 = mesh0[m0, m1]\n",
        "        x1 = mesh1[m0, m1]\n",
        "        cell = Cell2d(np.array([x0, x1]), self.l)\n",
        "        self.cells.append(cell)\n",
        "        # bulk cells\n",
        "        if self.in_bulk(cell):\n",
        "          self.cells_b.append(cell)\n",
        "\n",
        "  # CONSTRUCTION: VERTICES\n",
        "\n",
        "  def sprinkle_reg(self):\n",
        "  # construct self.verts (and self.verts_b) with a regular lattice, one vertex per cell\n",
        "    self.verts, self.verts_b = [], []\n",
        "    for cell in self.cells:\n",
        "      vert = Vertex(cell.coords + self.l/2)\n",
        "      self.verts.append(vert)\n",
        "      # bulk verts\n",
        "      if self.in_bulk(vert):\n",
        "        self.verts_b.append(vert)\n",
        "\n",
        "  def sprinkle_ran(self, seed=None):\n",
        "  # construct self.verts (and self.verts_b) from a uniform random distribution (with number of vertices = number of cells)\n",
        "    np.random.seed(seed)\n",
        "    self.verts, self.verts_b = [], []\n",
        "    for i in range(len(self.cells)):\n",
        "      vert = Vertex(np.random.uniform(-self.size/2, self.size/2, 2))\n",
        "      self.verts.append(vert)\n",
        "      # bulk verts\n",
        "      if self.in_bulk(vert):\n",
        "        self.verts_b.append(vert)\n",
        "\n",
        "  # CONSTRUCTION: GRAPH\n",
        "\n",
        "  def graph_heat_kernel(self, epsilon, s):\n",
        "  # fix self.epsilon and construct the weight matrix, self.wghts, of edges between vertices (based on heat Kernel)\n",
        "    W = [[self.heat_kernel(v1, v2, epsilon, s) for v2 in self.verts] for v1 in self.verts]\n",
        "    self.wghts = np.array(W)\n",
        "    self.epsilon = epsilon\n",
        "\n",
        "  def graph_near_neighs(self, N_neighbors, s):\n",
        "  # construct the weight matrix, self.wghts, of edges between vertices (based on heat N_neighbors nearest neighbors)\n",
        "  # note: this does not mean that every vertex in graph is N_neighbors-valent, but that every vertex is *at least* N_neighbors-valent\n",
        "    neighs = {v : self.nearest_neighbours(v, N_neighbors, s) for v in self.verts}\n",
        "    W = [[1 if (v2 in neighs[v1] or v1 in neighs[v2]) else 0 for v2 in self.verts] for v1 in self.verts]\n",
        "    self.wghts = np.array(W)\n",
        "  \n",
        "  def graph_tassellation(self, s):\n",
        "  # construct the weight matrix, self.wghts, of edges between vertices: two vertices are connected if there is no vertex \"between\" them\n",
        "  # note: involves 3 nested cycles over all vertices, hence it gets slow easily\n",
        "    W = []\n",
        "    for v1 in self.verts:\n",
        "      W_row = []\n",
        "      for v2 in self.verts:\n",
        "        d12 = v1.dist2(v2, s)\n",
        "        if any([(w.dist2(v1, s) < d12 and w.dist2(v2, s) < d12) for w in self.verts]):\n",
        "          W_row.append(0)\n",
        "        else:\n",
        "          W_row.append(1)\n",
        "      W.append(W_row)\n",
        "    self.wghts = np.array(W)\n",
        "\n",
        "  # TRANSFORMATIONS\n",
        "\n",
        "  def rotat(self, t):\n",
        "  # rotate all vertices by angle t\n",
        "    R = np.array([[np.cos(t), -np.sin(t)],[np.sin(t), np.cos(t)]])\n",
        "    new_verts, new_verts_b = [], []\n",
        "    for vert in self.verts:\n",
        "      new_vert = Vertex(R @ vert.coords)\n",
        "      new_verts.append(new_vert)\n",
        "      if self.in_bulk(new_vert):\n",
        "        new_verts_b.append(new_vert)\n",
        "    self.verts = new_verts\n",
        "    self.verts_b = new_verts_b\n",
        "\n",
        "  def boost(self, v):\n",
        "  # boost all vertices by velocity v (in Planck units)\n",
        "    Lambda = 1/np.sqrt(1 - v**2) * np.array([[1, -v],[-v, 1]])\n",
        "    new_verts, new_verts_b = [], []\n",
        "    for vert in self.verts:\n",
        "      new_vert = Vertex(Lambda @ vert.coords)\n",
        "      new_verts.append(new_vert)\n",
        "      if self.in_bulk(new_vert):\n",
        "        new_verts_b.append(new_vert)\n",
        "    self.verts = new_verts\n",
        "    self.verts_b = new_verts_b\n",
        "\n",
        "  # GEOMETRIC OBJECTS [require self.wghts via self.graph_heat_kernel method]\n",
        "\n",
        "  def laplacian(self, bulk_only=False):\n",
        "  # return the graph Laplacian L from the heat-kernel weights in self.wghts\n",
        "  # note: L is a N x N matrix (with N number of vertices): if f is a function on space,\n",
        "  # we discretize it on the graph as a N-vector f = (f_1,..,f_N) with f_i := f(v_i);\n",
        "  # then g := L f is a N-vector corresponding to the discretization of function nabla^2 f.\n",
        "  # if bulk_only=True, return a reduced matrix involving only v in self.verts_b\n",
        "    K, N = self.wghts, len(self.verts)\n",
        "    e = np.ones(N)\n",
        "    q = np.diag(K @ e)\n",
        "    q_inv = np.linalg.inv(q)\n",
        "    K_prime = q_inv @ K @ q_inv\n",
        "    d = np.diag(K_prime @ e)\n",
        "    d_inv = np.linalg.inv(d)\n",
        "    D = d_inv @ K_prime\n",
        "    L = (D - np.identity(N))/self.epsilon\n",
        "    if bulk_only: # remove from L the rows/columns that correspond to vertices outside the bulk\n",
        "      bound_verts_idxs = []\n",
        "      for v, i in zip(self.verts, range(len(self.verts))):\n",
        "        if v not in self.verts_b:\n",
        "          bound_verts_idxs.append(i)\n",
        "      L = np.delete(L, bound_verts_idxs, axis=0)\n",
        "      L = np.delete(L, bound_verts_idxs, axis=1)\n",
        "    return L\n",
        "\n",
        "  def g_inv(self, bulk_only=False):\n",
        "  # return a n-vector: the ith entry is the (discretized) inverse metric at vertex v_i\n",
        "  # if bulk_only=True, return a reduced matrix involving only v in self.verts_b\n",
        "    L = self.laplacian(bulk_only)\n",
        "    if bulk_only:\n",
        "      V = self.verts_b\n",
        "    else:\n",
        "      V = self.verts\n",
        "    D = range(2) # dimension of spacetime\n",
        "    N = range(len(V)) # number of vertices\n",
        "    x = np.array([[v.coords[mu] for mu in D] for v in V]) # NxD matrix: x[i, mu] (i.e., the mu-coordinate of vertex v_i)\n",
        "    xx = np.array([np.tensordot(x[i,:], x[i,:], axes=0) for i in N]) # NxDxD matrix: xx[i, mu, nu] = x[i, mu] * x[i, nu]\n",
        "    Lxx = np.tensordot(L, xx, axes=(1, 0)) # NxDxD matrix: Lxx[i, mu, nu] = sum(L[i, j] * xx[j, mu, nu], j)\n",
        "    xLx1 = np.array([np.tensordot(x[i,:], (L @ x)[i,:], axes=0) for i in N]) # NxDxD matrix: xLx1[i, mu, nu] = x[i, mu] * (L @ x)[i, nu]\n",
        "    xLx2 = np.array([np.tensordot((L @ x)[i,:], x[i,:], axes=0) for i in N]) # NxDxD matrix: xLx2[i, mu, nu] = (L @ x)[i, mu] * x[i, nu]\n",
        "    return (Lxx - xLx1 - xLx2)/2\n",
        "\n",
        "  def g(self, bulk_only=False):\n",
        "  # return a n-vector: the ith entry is the (discretized) metric at vertex v_i\n",
        "  # if bulk_only=True, return a reduced matrix involving only v in self.verts_b\n",
        "    g_inv = self.g_inv(bulk_only)\n",
        "    metric = [np.linalg.inv(matrix) for matrix in g_inv]\n",
        "    return np.array(metric)\n",
        "\n",
        "  # VISUALIZATION\n",
        "\n",
        "  def plot(self, ax, cells=False, graph=False, bound=None, color='k'):\n",
        "  # draws in ax the plot of vertices in self.verts\n",
        "  # bound in (0,1): percentage of the whole space which is plotted\n",
        "  # cells=True: show the grid of cells\n",
        "  # graph=r (for r a positive real): draw the edges with weight > r\n",
        "    bound = bound if bound else self.bulk\n",
        "    V0, V1 = [], []\n",
        "    for v in self.verts:\n",
        "      V0.append(v.coords[0])\n",
        "      V1.append(v.coords[1])\n",
        "    ax.scatter(V0, V1, color=color, marker='.')\n",
        "    if cells:\n",
        "      S = np.linspace(-self.size/2, self.size/2 - 1, self.M)\n",
        "      for s in S:\n",
        "        ax.axvline(x = s, color='k', alpha=0.25)\n",
        "        ax.axhline(y = s, color='k', alpha=0.25)\n",
        "    if graph:\n",
        "      G = self.get_graph(thresh=graph)\n",
        "      pos = [v.coords for v in self.verts]\n",
        "      nx.draw_networkx(G, pos, arrows=False, with_labels=False, ax=ax, node_size=50, node_color=color)\n",
        "    ax.tick_params(reset=True)\n",
        "    ax.set_xlim(-bound*self.size/2,bound*self.size/2)\n",
        "    ax.set_ylim(-bound*self.size/2,bound*self.size/2)\n",
        "\n",
        "  # UTILITIES\n",
        "\n",
        "  def in_bulk(self, obj):\n",
        "  # return True if obj.coords are within the bulk\n",
        "    bs = self.bulk * self.size/2\n",
        "    if (-bs <= obj.coords[0] < bs and -bs <= obj.coords[1] < bs):\n",
        "      return True\n",
        "    return False\n",
        "\n",
        "  def heat_kernel(self, v1, v2, epsilon, s):\n",
        "  # heat kernel based on square distance between 2 points (vertices) v1 and v2\n",
        "  # note: in Minkowski case (s=-1), the exponent is not necessarily positive [THIS IS A PROBLEM!]\n",
        "    Delta2 = v1.dist2(v2, s)\n",
        "    # return np.exp(-Delta2/(epsilon))\n",
        "    return np.exp(-Delta2/(4 * epsilon))\n",
        "\n",
        "  def nearest_neighbours(self, v, N_neighbors, s):\n",
        "  # return a list of N_neighbors vertices: the nearest neighbors of v (excluding v itself)\n",
        "    dist_from_v = {}\n",
        "    for w in self.verts:\n",
        "      d2 = v.dist2(w, s) # compute distance of w from v\n",
        "      dist_from_v[w] = d2 # store it in the dictionary dist_from_v\n",
        "    v_neighbors = sorted(self.verts, key=lambda w: dist_from_v[w]) # create a new list from self.verts by ordering it wrt dist_from_v\n",
        "    v_neighbors = v_neighbors[1:N_neighbors+1] # restrict to N_neighbors elements (the nearest neighbors)\n",
        "    return v_neighbors\n",
        "\n",
        "  def get_graph(self, thresh):\n",
        "  # return a networkx.Graph object obtained from self.wghts by retaining only the edges with weight > thresh\n",
        "    R = range(len(self.verts))\n",
        "    W = [[1 if self.wghts[i, j] > thresh else 0 for i in R] for j in R]\n",
        "    W = np.array(W)\n",
        "    return nx.from_numpy_matrix(W)"
      ],
      "execution_count": null,
      "outputs": []
    },
    {
      "cell_type": "markdown",
      "metadata": {
        "id": "Z02Q8-aH79R8",
        "colab_type": "text"
      },
      "source": [
        "The fist option is to use a regular discretization. We separate the space in cells (of size, say, $\\ell_{\\rm Planck}$), and then put a vertex in each cell:"
      ]
    },
    {
      "cell_type": "code",
      "metadata": {
        "id": "blET08F1tS3B",
        "colab_type": "code",
        "colab": {
          "base_uri": "https://localhost:8080/",
          "height": 323
        },
        "outputId": "e726ab25-705e-4c4a-fcf4-fef9121d5e02"
      },
      "source": [
        "M = Space2d(10, 1, bulk=0.2)\n",
        "M.sprinkle_reg()\n",
        "\n",
        "fig, ax = plt.subplots(nrows=1, ncols=1, figsize=(5, 5))\n",
        "M.plot(ax=ax, cells=True, bound=0.5)"
      ],
      "execution_count": null,
      "outputs": [
        {
          "output_type": "display_data",
          "data": {
            "image/png": "[encoded data removed]",
            "text/plain": [
              "<Figure size 360x360 with 1 Axes>"
            ]
          },
          "metadata": {
            "tags": [],
            "needs_background": "light"
          }
        }
      ]
    },
    {
      "cell_type": "markdown",
      "metadata": {
        "id": "scM1mMm48QgH",
        "colab_type": "text"
      },
      "source": [
        "Now, depending on the signature of the space, we are interested in performing rotations or boosts."
      ]
    },
    {
      "cell_type": "code",
      "metadata": {
        "id": "5o0qTYKY96Ej",
        "colab_type": "code",
        "colab": {
          "base_uri": "https://localhost:8080/",
          "height": 693,
          "referenced_widgets": [
            "4b2979a969df493aa1b149ffe949f8f7",
            "d2f9af4a210b4d3a9a62200161f5a98c",
            "551729bb7f6d4864bdf91199365dfc96",
            "3cefb3a6655a4b0cbfcd4910ed065c50",
            "8c847af2324846929208cccb75155173",
            "b90734904a4e412e96e38934448de75f",
            "6605007a163b4e738a7395881d4a143b",
            "55cf39959bfd4141beb6c2311c62587e",
            "9f11488c7ba845a79f665cac4eae029c",
            "ac2140d1ee2d44f3931515ce4e195692",
            "985640fef21a45008c260ec21a271b61",
            "141e31c24df242dea95ca07d5612e0fa",
            "23284cb0f99a46cbb79aa6a2c12d175f",
            "40e71db7400c4217897fa5f1dedaf025"
          ]
        },
        "outputId": "da2daf9a-351e-457a-d5d7-061bf548ae7e"
      },
      "source": [
        "import ipywidgets as widgets\n",
        "\n",
        "M1 = Space2d(20, 1, bulk=0.5)\n",
        "M1.sprinkle_reg()\n",
        "\n",
        "M2 = Space2d(20, 1, bulk=0.5)\n",
        "M2.sprinkle_reg()\n",
        "\n",
        "def update(t):\n",
        "  fig, ax = plt.subplots(nrows=1, ncols=1, figsize=(5, 5))\n",
        "  M1.rotat(t*np.pi)\n",
        "  M1.plot(ax=ax, cells=False, graph=False, color='k')\n",
        "  M1.rotat(-t*np.pi)\n",
        "\n",
        "widgets.interact(update, t=(-0.25, 0.25, 0.01));\n",
        "\n",
        "def update(v):\n",
        "  fig, ax = plt.subplots(nrows=1, ncols=1, figsize=(5, 5))\n",
        "  M2.boost(v)\n",
        "  M2.plot(ax=ax, cells=False, graph=False, color='k')\n",
        "  M2.boost(-v)\n",
        "\n",
        "widgets.interact(update, v=(-0.25, 0.25, 0.01));"
      ],
      "execution_count": null,
      "outputs": [
        {
          "output_type": "display_data",
          "data": {
            "application/vnd.jupyter.widget-view+json": {
              "model_id": "4b2979a969df493aa1b149ffe949f8f7",
              "version_minor": 0,
              "version_major": 2
            },
            "text/plain": [
              "interactive(children=(FloatSlider(value=0.0, description='t', max=0.25, min=-0.25, step=0.01), Output()), _dom…"
            ]
          },
          "metadata": {
            "tags": []
          }
        },
        {
          "output_type": "display_data",
          "data": {
            "application/vnd.jupyter.widget-view+json": {
              "model_id": "55cf39959bfd4141beb6c2311c62587e",
              "version_minor": 0,
              "version_major": 2
            },
            "text/plain": [
              "interactive(children=(FloatSlider(value=0.0, description='v', max=0.25, min=-0.25, step=0.01), Output()), _dom…"
            ]
          },
          "metadata": {
            "tags": []
          }
        }
      ]
    },
    {
      "cell_type": "markdown",
      "metadata": {
        "id": "K3ls2bfPB-XY",
        "colab_type": "text"
      },
      "source": [
        "Let us see the extreme cases:"
      ]
    },
    {
      "cell_type": "code",
      "metadata": {
        "id": "x-6C8DT_suOb",
        "colab_type": "code",
        "colab": {
          "base_uri": "https://localhost:8080/",
          "height": 324
        },
        "outputId": "9c1b200c-41f5-457b-a0db-6dc3fdd57851"
      },
      "source": [
        "Mreg1 = Space2d(100, 1, bulk=0.2)\n",
        "Mreg2 = Space2d(100, 1, bulk=0.2)\n",
        "Mreg3 = Space2d(100, 1, bulk=0.2)\n",
        "\n",
        "Mreg1.sprinkle_reg()\n",
        "Mreg2.sprinkle_reg()\n",
        "Mreg3.sprinkle_reg()\n",
        "\n",
        "Mreg2.rotat(np.pi/8)\n",
        "Mreg3.boost(0.8)\n",
        "\n",
        "fig, axes = plt.subplots(nrows=1, ncols=3, figsize=(15, 5))\n",
        "Mreg1.plot(ax=axes[0], cells=False, graph=False, color='k')\n",
        "Mreg2.plot(ax=axes[1], cells=False, graph=False, color='r')\n",
        "Mreg3.plot(ax=axes[2], cells=False, graph=False, color='b')"
      ],
      "execution_count": null,
      "outputs": [
        {
          "output_type": "display_data",
          "data": {
            "image/png": "[encoded data removed]",
            "text/plain": [
              "<Figure size 1080x360 with 3 Axes>"
            ]
          },
          "metadata": {
            "tags": [],
            "needs_background": "light"
          }
        }
      ]
    },
    {
      "cell_type": "markdown",
      "metadata": {
        "id": "11j673c2CF0L",
        "colab_type": "text"
      },
      "source": [
        "As we knew already, the regular discretization is clearly **not** invariant under the symmetries of flat space:\n",
        "\n",
        "$$\n",
        "\\text{symmetry}: \\ \\ \\text{regular discretization} \\ \\ \\longrightarrow \\ \\ \\text{not regular discretization}\n",
        "$$\n",
        "\n",
        " The reason why this is bad is that, by looking at one of these pictures, **we are able to tell** whether it has been transformed or not. Hence, we have singled out a special frame (the one wrt which the picture appears not transformed, i.e., regular)."
      ]
    },
    {
      "cell_type": "markdown",
      "metadata": {
        "id": "vwBex_ZXDoXL",
        "colab_type": "text"
      },
      "source": [
        "Consider now the following 3 pictures:"
      ]
    },
    {
      "cell_type": "code",
      "metadata": {
        "id": "RC5L1JQq1XqG",
        "colab_type": "code",
        "colab": {
          "base_uri": "https://localhost:8080/",
          "height": 324
        },
        "outputId": "5462a8a3-ae40-4875-8b92-a657e2f9b728"
      },
      "source": [
        "Mran1 = Space2d(100, 1, bulk=0.3)\n",
        "Mran2 = Space2d(100, 1, bulk=0.3)\n",
        "Mran3 = Space2d(100, 1, bulk=0.3)\n",
        "\n",
        "Mran1.sprinkle_ran(seed=1)\n",
        "Mran2.sprinkle_ran(seed=1)\n",
        "Mran3.sprinkle_ran(seed=1)\n",
        "\n",
        "Mran2.rotat(np.pi/8)\n",
        "Mran3.boost(0.8)\n",
        "\n",
        "fig, axes = plt.subplots(nrows=1, ncols=3, figsize=(15, 5))\n",
        "Mran1.plot(ax=axes[0], cells=False, graph=False)\n",
        "Mran2.plot(ax=axes[1], cells=False, graph=False)\n",
        "Mran3.plot(ax=axes[2], cells=False, graph=False)"
      ],
      "execution_count": null,
      "outputs": [
        {
          "output_type": "display_data",
          "data": {
            "image/png": "[encoded data removed]",
            "text/plain": [
              "<Figure size 1080x360 with 3 Axes>"
            ]
          },
          "metadata": {
            "tags": [],
            "needs_background": "light"
          }
        }
      ]
    },
    {
      "cell_type": "markdown",
      "metadata": {
        "id": "vsklqEKSD9Ev",
        "colab_type": "text"
      },
      "source": [
        "One of them is the \"real one\", the other two have been transformed (using the same parameters as in the regular case). Can you tell which is the real one?\n",
        "\n",
        "The original figure is obtained by choosing points according to the Poisson distribution: the probability that $k$ points will be in a cell (of size $\\ell_{\\rm Planck}$) is given by\n",
        "\n",
        "$$\n",
        "p(k) = \\dfrac{\\mu^k e^{-\\mu}}{k!}\n",
        "$$\n",
        "\n",
        "with $\\mu = 1$. The discretization we obtain is **not** invariant under the symmetries of the continuum manifold (the three figures above are different from each other), but we cannot use this fact to single out a special frame. This is because\n",
        "\n",
        "$$\n",
        "\\text{symmetry}: \\ \\ \\text{Poisson discretization} \\ \\ \\longrightarrow \\ \\ \\text{(another) Poisson discretization}\n",
        "$$"
      ]
    },
    {
      "cell_type": "code",
      "metadata": {
        "id": "2BG3lKReWfEg",
        "colab_type": "code",
        "colab": {
          "base_uri": "https://localhost:8080/",
          "height": 355,
          "referenced_widgets": [
            "a8590c734df3491f841e08b0c72a08bd",
            "4a200c0550a64ba393c333e2f55fb0ee",
            "01e75a2b153c4b1b8e1db0646524cc3e",
            "d10631e1780145bbbb322ffeea4f0173",
            "ef679e0b1ddd4845b7f2cd57628cb9be",
            "aed7a849181a4e3283ac9ea4839a6a36",
            "42e4cb47302f4c3793742183383e9774"
          ]
        },
        "outputId": "393a68b8-66a3-4272-f5f1-9dbb764b72e4"
      },
      "source": [
        "M3 = Space2d(75, 1, bulk=0.25)\n",
        "M3.sprinkle_ran(seed=1)\n",
        "\n",
        "def update(v):\n",
        "  fig, ax = plt.subplots(nrows=1, ncols=1, figsize=(5, 5))\n",
        "  M3.boost(v)\n",
        "  M3.plot(ax=ax, cells=False, graph=False, color='k')\n",
        "  M3.boost(-v)\n",
        "\n",
        "widgets.interact(update, v=(-0.9, 0.9, 0.01));"
      ],
      "execution_count": null,
      "outputs": [
        {
          "output_type": "display_data",
          "data": {
            "application/vnd.jupyter.widget-view+json": {
              "model_id": "a8590c734df3491f841e08b0c72a08bd",
              "version_minor": 0,
              "version_major": 2
            },
            "text/plain": [
              "interactive(children=(FloatSlider(value=0.0, description='v', max=0.9, min=-0.9, step=0.01), Output()), _dom_c…"
            ]
          },
          "metadata": {
            "tags": []
          }
        }
      ]
    },
    {
      "cell_type": "markdown",
      "metadata": {
        "id": "EiEzb0dgWeUZ",
        "colab_type": "text"
      },
      "source": [
        "We can check that all of three discretizations above follow the Poisson distribution:"
      ]
    },
    {
      "cell_type": "code",
      "metadata": {
        "id": "oRNhgE04us43",
        "colab_type": "code",
        "colab": {
          "base_uri": "https://localhost:8080/",
          "height": 221
        },
        "outputId": "5f00fb16-d972-459d-a35d-aca96e7b02af"
      },
      "source": [
        "def vertex_count(M):\n",
        "# Given a Space2d object, count how many vertices are in each cell.\n",
        "# Return an array: the ith element is the number of (bulk) vertices in ith cell.\n",
        "  C = [] \n",
        "  for cell in M.cells_b:\n",
        "    count = 0\n",
        "    for vert in M.verts_b:\n",
        "      if cell.contains(vert):\n",
        "        count = count + 1\n",
        "    C.append(count)\n",
        "  return np.array(C)\n",
        "\n",
        "C1 = vertex_count(Mran1)\n",
        "mean1 = np.around(C1.mean(), 2)\n",
        "std1 = np.around(C1.std(), 2)\n",
        "\n",
        "print(\"\\noriginal discretization:\")\n",
        "print(\"average number of vertices per cell = {0}\".format(mean1))\n",
        "print(\"standard deviation = {0}\".format(std1))\n",
        "\n",
        "C2 = vertex_count(Mran2)\n",
        "mean2 = np.around(C2.mean(), 2)\n",
        "std2 = np.around(C2.std(), 2)\n",
        "\n",
        "print(\"\\nrotated by t = pi/8:\")\n",
        "print(\"average number of vertices per cell = {0}\".format(mean2))\n",
        "print(\"standard deviation = {0}\".format(std2))\n",
        "\n",
        "C3 = vertex_count(Mran3)\n",
        "mean3 = np.around(C3.mean(), 2)\n",
        "std3 = np.around(C3.std(), 2)\n",
        "\n",
        "print(\"\\nboosted by v = 0.8:\")\n",
        "print(\"average number of vertices per cell = {0}\".format(mean3))\n",
        "print(\"standard deviation = {0}\".format(std3))"
      ],
      "execution_count": null,
      "outputs": [
        {
          "output_type": "stream",
          "text": [
            "\n",
            "original discretization:\n",
            "average number of vertices per cell = 0.98\n",
            "standard deviation = 1.01\n",
            "\n",
            "rotated by t = pi/8:\n",
            "average number of vertices per cell = 1.0\n",
            "standard deviation = 1.0\n",
            "\n",
            "boosted by v = 0.8:\n",
            "average number of vertices per cell = 1.0\n",
            "standard deviation = 1.01\n"
          ],
          "name": "stdout"
        }
      ]
    },
    {
      "cell_type": "markdown",
      "metadata": {
        "id": "UO6fKL39mxGW",
        "colab_type": "text"
      },
      "source": [
        "Recall that, for Poisson distribution, $\\mathbb E[K] = \\mu$ and $\\text{Var}[K] = \\mu$.\n",
        "\n",
        "More explicitely, we can count the number $n(k)$ of cells that contain $k$ vertices, and make a histogram $n(k)$ against $k$. The theoretical value predicted by Poisson distribution is\n",
        "\n",
        "$$\n",
        "n_{\\rm theo}(k) = N p(k)\n",
        "$$\n",
        "\n",
        "where $N$ is the total number of cells."
      ]
    },
    {
      "cell_type": "code",
      "metadata": {
        "id": "8t4nc_lFzRCo",
        "colab_type": "code",
        "colab": {
          "base_uri": "https://localhost:8080/",
          "height": 324
        },
        "outputId": "0184482d-f8af-4949-f039-9cc2186cb69d"
      },
      "source": [
        "from scipy.stats import poisson\n",
        "\n",
        "def plot_histogram(C, ax):\n",
        "  ns = range(0, 6)\n",
        "  n_theo = len(C) * poisson.pmf(ns, mu=1)\n",
        "  bins = np.arange(min(C), max(C) + 2) - 0.5\n",
        "  ax.scatter(ns, n_theo, color='k')\n",
        "  ax.hist(C, bins=bins, alpha=0.25, color='g')\n",
        "  ax.set_xlim([-1, 6])\n",
        "  ax.set_ylim([0, len(C)])\n",
        "\n",
        "fig, axes = plt.subplots(nrows=1, ncols=3, figsize=(15, 5))\n",
        "plot_histogram(C1, ax=axes[0])\n",
        "plot_histogram(C2, ax=axes[1])\n",
        "plot_histogram(C3, ax=axes[2])"
      ],
      "execution_count": null,
      "outputs": [
        {
          "output_type": "display_data",
          "data": {
            "image/png": "[encoded data removed]",
            "text/plain": [
              "<Figure size 1080x360 with 3 Axes>"
            ]
          },
          "metadata": {
            "tags": [],
            "needs_background": "light"
          }
        }
      ]
    },
    {
      "cell_type": "markdown",
      "metadata": {
        "id": "h34R4G9FSDJe",
        "colab_type": "text"
      },
      "source": [
        "For comparison, let us look at the regularly-discretized space:"
      ]
    },
    {
      "cell_type": "code",
      "metadata": {
        "id": "c9evo1M4SLhU",
        "colab_type": "code",
        "colab": {
          "base_uri": "https://localhost:8080/",
          "height": 324
        },
        "outputId": "f99f14c6-7c93-4af4-802e-5d45adb22b7d"
      },
      "source": [
        "C1 = vertex_count(Mreg1)\n",
        "C2 = vertex_count(Mreg2)\n",
        "C3 = vertex_count(Mreg3)\n",
        "\n",
        "fig, axes = plt.subplots(nrows=1, ncols=3, figsize=(15, 5))\n",
        "plot_histogram(C1, ax=axes[0])\n",
        "plot_histogram(C2, ax=axes[1])\n",
        "plot_histogram(C3, ax=axes[2])"
      ],
      "execution_count": null,
      "outputs": [
        {
          "output_type": "display_data",
          "data": {
            "image/png": "[encoded data removed]",
            "text/plain": [
              "<Figure size 1080x360 with 3 Axes>"
            ]
          },
          "metadata": {
            "tags": [],
            "needs_background": "light"
          }
        }
      ]
    },
    {
      "cell_type": "markdown",
      "metadata": {
        "id": "iVJ8W4tYw1Xu",
        "colab_type": "text"
      },
      "source": [
        "# 2. Graph associated to a Discretization"
      ]
    },
    {
      "cell_type": "markdown",
      "metadata": {
        "id": "Rd8zgZjLx2iw",
        "colab_type": "text"
      },
      "source": [
        "Given a discretization, we can represent an associated graph via an **adjacency matrix** $W$: if $i = 1, 2, .., N_V$ ranges over all vertices, $W$ is a $N_V \\times N_V$ matrix with\n",
        "\n",
        "$$\n",
        "W_{ij} = \\left\\{\n",
        "\\begin{array}{ll}\n",
        "1 & \\text{if there exists an edge between} \\ v_i \\ \\text{and} \\ v_j\n",
        "\\\\\n",
        "0 & \\text{otherwise}\n",
        "\\end{array}\n",
        "\\right.\n",
        "$$\n",
        "\n",
        "Furthermore, if edges carry a \"color\" (e.g., positive integers), we can use the same idea: $W_{ij}$ represents the color of the edge between vertices $v_i$ and $v_j$."
      ]
    },
    {
      "cell_type": "markdown",
      "metadata": {
        "id": "0COmdKDALSjC",
        "colab_type": "text"
      },
      "source": [
        "There are several ways to associate a graph with a discretization. For example, we can construct the **k-nearest neighbor graph**: $W_{ij} = 1$ if $v_i$ is among the $k$ nearest neighbours of $v_j$ or if $v_j$ is among the $k$ nearest neighbours of $v_i$ (note that this property is not symmetric).\n",
        "\n",
        "Examples in flat Euclidean case ($k = 4$):"
      ]
    },
    {
      "cell_type": "code",
      "metadata": {
        "id": "EGec3EGiPgjs",
        "colab_type": "code",
        "colab": {
          "base_uri": "https://localhost:8080/",
          "height": 323
        },
        "outputId": "5215783d-7de6-42ea-b279-ab813ed15e64"
      },
      "source": [
        "Mreg = Space2d(25, 1, bulk=0.5)\n",
        "Mran = Space2d(25, 1, bulk=0.5)\n",
        "\n",
        "Mreg.sprinkle_reg()\n",
        "Mran.sprinkle_ran(seed=1)\n",
        "\n",
        "Mreg.graph_near_neighs(N_neighbors=4, s=1)\n",
        "Mran.graph_near_neighs(N_neighbors=4, s=1)\n",
        "\n",
        "fig, axes = plt.subplots(nrows=1, ncols=2, figsize=(10, 5))\n",
        "Mreg.plot(ax=axes[0], graph=0.5)\n",
        "Mran.plot(ax=axes[1], graph=0.5)"
      ],
      "execution_count": null,
      "outputs": [
        {
          "output_type": "display_data",
          "data": {
            "image/png": "[encoded data removed]",
            "text/plain": [
              "<Figure size 720x360 with 2 Axes>"
            ]
          },
          "metadata": {
            "tags": [],
            "needs_background": "light"
          }
        }
      ]
    },
    {
      "cell_type": "markdown",
      "metadata": {
        "id": "k28OfHMMPxiv",
        "colab_type": "text"
      },
      "source": [
        "Note that, for this to work, we need to be able to associate a **distance** between points. If we are in Riemannian geometry, the obvious choice is to use the square **geodetic distance** $\\sigma^2(v_i, v_j)$. While the geodetic distance is defined also in the Lorentzian case, it is not necessarily positive, so it is not clear how to define the concept of \"nearest neighbor\"."
      ]
    },
    {
      "cell_type": "markdown",
      "metadata": {
        "id": "IqoTt-5mzhXZ",
        "colab_type": "text"
      },
      "source": [
        "In the following, we will be focusing on a different way to construct the graph, which is useful in light of retaining information about the underlying geometry (see later): we will use the **heat Kernel**.\n",
        "\n",
        "The idea is simple: given the set of all vertices, build $W$ as\n",
        "\n",
        "$$\n",
        "W_{ij} = K_{\\epsilon}(v_i, v_j)\n",
        "$$\n",
        "\n",
        "where $K_\\epsilon(x, y)$ is the heat kernel, i.e., the object such that\n",
        "\n",
        "$$\n",
        "u_\\epsilon(x) := \\int dy \\ \\sqrt{\\det g(y)} \\ K_\\epsilon(x, y) f(y)\n",
        "$$\n",
        "\n",
        "solves the heat equation\n",
        "\n",
        "$$\n",
        "\\dfrac{d}{d\\epsilon} u_\\epsilon(x) = \\nabla^2 u_\\epsilon(x), \\ \\ \\ \\ \\ u_0(x) = f(x)\n",
        "$$\n",
        "\n",
        "with \n",
        "\n",
        "$$\n",
        "\\nabla^2f := \\dfrac{1}{\\sqrt{\\det g}} \\partial_\\mu \\big(\\sqrt{\\det g} \\ g^{\\mu\\nu} \\partial_\\mu f\\big)\n",
        "$$\n",
        "\n",
        "In the case of flat Euclidean space, the heat kernel has analytical form:\n",
        "\n",
        "$$\n",
        "K_{\\epsilon}(x, y) = \\exp\\left(-\\frac{\\|x - y\\|^2}{4\\epsilon}\\right)\n",
        "$$"
      ]
    },
    {
      "cell_type": "markdown",
      "metadata": {
        "id": "XA3QBeyTD1cB",
        "colab_type": "text"
      },
      "source": [
        "### Details on Heat Kernel"
      ]
    },
    {
      "cell_type": "markdown",
      "metadata": {
        "id": "dzCpSabSDuil",
        "colab_type": "text"
      },
      "source": [
        "More generally, one can show that $\\nabla^2$ admits eigenvalue decomposition:\n",
        "\n",
        "$$\n",
        "\\nabla^2 \\phi_k(x) = -\\lambda_k \\phi_k(x)\n",
        "$$\n",
        "\n",
        "with $0 \\leq \\lambda_1 \\leq \\lambda_2 \\leq ...$ and $\\lim_{k \\to \\infty} \\lambda_k = \\infty$ (in the Riemannian case). Given a function $f$, we can then find the solution to the heat kernel equation as follows: first, expand $f$ on basis $\\{\\phi_k\\}$,\n",
        "\n",
        "$$\n",
        "f(x) = \\sum_{k} a_k \\phi_k(x), \\ \\ \\ \\ \\ \\text{where} \\ \\ a_k := \\int dy \\ \\sqrt{\\det g(y)} \\ f(y) \\overline{\\phi_k(y)}\n",
        "$$\n",
        "\n",
        "Then, we see that $e^{\\epsilon \\nabla^2} f(x) = \\sum_{k} a_k e^{-\\epsilon \\lambda_k} \\phi_k(x)$; deriving wrt $s$, we obtain\n",
        "\n",
        "$$\n",
        "\\dfrac{d}{d\\epsilon} e^{\\epsilon \\nabla^2} f(x) = \\sum_{k} a_k e^{-\\epsilon \\lambda_k} (- \\lambda_k) \\phi_k(x) = \\sum_{k} a_k e^{-\\epsilon \\lambda_k} \\nabla^2 \\phi_k(x) = \\nabla^2 e^{\\epsilon \\nabla^2} f(x)\n",
        "$$\n",
        "\n",
        "From here, we conclude that the solution to the heat kernel equation is $u_s(x) = e^{s \\nabla^2} f(x)$. Writing this explicitely, we find\n",
        "\n",
        "$$\n",
        "u_\\epsilon(x) = \\sum_{k} a_k e^{-\\epsilon \\lambda_k} \\phi_k(x) = \\int dy \\ \\sqrt{\\det g(y)} \\left[\\sum_{k} e^{-\\epsilon \\lambda_k} \\phi_k(x) \\overline{\\phi_k(y)}\\right] f(y)\n",
        "$$\n",
        "\n",
        "from which we finally read off the heat kernel:\n",
        "\n",
        "$$\n",
        "K_\\epsilon(x, y) = \\sum_{k} e^{-\\epsilon \\lambda_k} \\phi_k(x) \\overline{\\phi_k(y)}\n",
        "$$\n",
        "\n",
        "Note: as shown by S. Varadhan, the heat Kernel is related to the geodesic distance $\\sigma^2$ via the equation\n",
        "\n",
        "$$\n",
        "\\sigma^2(x, y) = -\\lim_{\\epsilon \\to 0} 4\\epsilon \\ln(K_s(x, y))\n",
        "$$"
      ]
    },
    {
      "cell_type": "markdown",
      "metadata": {
        "id": "MOAf0sGTEAoc",
        "colab_type": "text"
      },
      "source": [
        "## 2.1 Euclidean Example"
      ]
    },
    {
      "cell_type": "markdown",
      "metadata": {
        "id": "x5DN7kwcu_YC",
        "colab_type": "text"
      },
      "source": [
        "In the following, we show the graphs obtained from the heat kernel (with $\\epsilon = 0.5$) for the two discretizations (regular and Poisson). Note that we only drow the edges for which $W_{ij} \\geq 0.5$ for simplicity."
      ]
    },
    {
      "cell_type": "code",
      "metadata": {
        "id": "F6hov5br4Yol",
        "colab_type": "code",
        "colab": {
          "base_uri": "https://localhost:8080/",
          "height": 323
        },
        "outputId": "8564a5f2-4851-496c-f640-0a7490e0b50a"
      },
      "source": [
        "Mreg = Space2d(25, 1, bulk=0.5)\n",
        "Mran = Space2d(25, 1, bulk=0.5)\n",
        "\n",
        "Mreg.sprinkle_reg()\n",
        "Mran.sprinkle_ran(seed=1)\n",
        "\n",
        "Mreg.graph_heat_kernel(epsilon=0.5, s=1)\n",
        "Mran.graph_heat_kernel(epsilon=0.5, s=1)\n",
        "\n",
        "fig, axes = plt.subplots(nrows=1, ncols=2, figsize=(10, 5))\n",
        "Mreg.plot(ax=axes[0], graph=0.5)\n",
        "Mran.plot(ax=axes[1], graph=0.5)"
      ],
      "execution_count": null,
      "outputs": [
        {
          "output_type": "display_data",
          "data": {
            "image/png": "[encoded data removed]",
            "text/plain": [
              "<Figure size 720x360 with 2 Axes>"
            ]
          },
          "metadata": {
            "tags": [],
            "needs_background": "light"
          }
        }
      ]
    },
    {
      "cell_type": "markdown",
      "metadata": {
        "id": "oFpTfdlT2fzi",
        "colab_type": "text"
      },
      "source": [
        "Note that the poisson discretization presents a disconnected graph. Is this a problem? Recall however that the graph is not really disconnected: we are just hiding the edges corresponding to points that are further apart. If we show all edges with $W_{ij} \\geq 0.25$, we get a much more connected graph:"
      ]
    },
    {
      "cell_type": "code",
      "metadata": {
        "id": "WUpH-cO13PKh",
        "colab_type": "code",
        "colab": {
          "base_uri": "https://localhost:8080/",
          "height": 323
        },
        "outputId": "f8c4fd06-e91f-4fd3-a4d8-6c652f92632f"
      },
      "source": [
        "fig, axes = plt.subplots(nrows=1, ncols=2, figsize=(10, 5))\n",
        "Mreg.plot(ax=axes[0], graph=0.25)\n",
        "Mran.plot(ax=axes[1], graph=0.25)"
      ],
      "execution_count": null,
      "outputs": [
        {
          "output_type": "display_data",
          "data": {
            "image/png": "[encoded data removed]",
            "text/plain": [
              "<Figure size 720x360 with 2 Axes>"
            ]
          },
          "metadata": {
            "tags": [],
            "needs_background": "light"
          }
        }
      ]
    },
    {
      "cell_type": "markdown",
      "metadata": {
        "id": "LUuEzAyYVmoB",
        "colab_type": "text"
      },
      "source": [
        "# 3. Encoding the Metric in the Graph"
      ]
    },
    {
      "cell_type": "markdown",
      "metadata": {
        "id": "YEfsZvKGVuCE",
        "colab_type": "text"
      },
      "source": [
        "The continuous manifold is completely characterized by the metric, $g_{\\mu\\nu}$. How much of this information can we retain at the discrete level?\n",
        "\n",
        "Let us start by an observation: the inverse metric at point $x_o$, $g^{\\mu\\nu}(x_o)$, can be recovered from the Laplacian $\\nabla^2$ by acting with it on the function\n",
        "\n",
        "$$\n",
        "f_{x_o}^{\\mu\\nu}(x) := \\dfrac{1}{2} \\big(x^\\mu - x^\\mu_o\\big) \\big(x^\\nu - x^\\nu_o\\big)\n",
        "$$\n",
        "\n",
        "and evaluating the result at $x = x_o$. Indeed, we have\n",
        "\n",
        "\\begin{align}\n",
        "(\\nabla^2 f_{x_o}^{\\mu\\nu})(x_o) & = \\bigg[\\dfrac{1}{\\sqrt{\\det g(x)}} \\partial_\\rho \\big(\\sqrt{\\det g(x)} \\ g^{\\rho\\sigma}(x) (\\partial_\\sigma f_{x_o}^{\\mu\\nu})(x)\\big)\\bigg]\\bigg|_{x = x_o} =\n",
        "\\\\\n",
        "& = \\bigg[\\dfrac{1}{\\sqrt{\\det g(x)}} \\partial_\\rho \\big(\\sqrt{\\det g(x)} \\ g^{\\rho\\sigma}(x) \\frac{\\delta^\\mu_\\sigma (x^\\nu - x^\\nu_o) + (x^\\mu - x^\\mu_o) \\delta^\\nu_\\sigma}{2}\\big)\\bigg]\\bigg|_{x = x_o} = \n",
        "\\\\\n",
        "& = \\bigg[g^{\\rho\\sigma}(x) \\delta^{(\\mu}_\\sigma \\delta^{\\nu)}_\\rho\\bigg]\\bigg|_{x = x_o} = g^{\\mu\\nu}(x_o)\n",
        "\\end{align}\n",
        "\n",
        "Note that the function $f_{x_o}^{\\mu\\nu}$ is really $16$ different functions built from the coordinates $\\{x^\\mu\\}$, and so they are coordinate-dependent objects. This should not be concerning, though, since $g_{\\mu\\nu}(x_o)$ is also a coordinate-dependent object: it is the $(\\mu,\\nu)$-element of the metric **wrt coordinate system** $\\{x^\\mu\\}$:\n",
        "\n",
        "$$\n",
        "g_{\\mu\\nu}(x_o) := g_{x_o}\\big(\\frac{\\partial}{\\partial x^\\mu}, \\frac{\\partial}{\\partial x^\\nu}\\big)\n",
        "$$"
      ]
    },
    {
      "cell_type": "markdown",
      "metadata": {
        "id": "CYxF6Y5bgfYW",
        "colab_type": "text"
      },
      "source": [
        "Having this result, we now know that a possible way to encode the geometry in the discretization is by discretizing the object $\\nabla^2 f_{x_o}^{\\mu\\nu}$. In particular, if our discretization consists of vertices $\\{v_1, .., v_N\\}$, we expect to find\n",
        "\n",
        "\\begin{align}\n",
        "\\begin{array}{c}\n",
        "\\text{function} \\ f \\ \\ \\longrightarrow \\ \\ \\text{$N$-vector} \\ \\tilde f_i := f(v_i)\n",
        "\\\\\n",
        "\\text{operator} \\ \\nabla^2 \\ \\ \\longrightarrow \\ \\ N \\times N \\ \\text{matrix} \\ (\\tilde \\nabla^2)_{ij}\n",
        "\\end{array}\n",
        "\\end{align}"
      ]
    },
    {
      "cell_type": "markdown",
      "metadata": {
        "id": "wUbvojfvhsM-",
        "colab_type": "text"
      },
      "source": [
        "## 3.1 Discretization of the Laplacian"
      ]
    },
    {
      "cell_type": "markdown",
      "metadata": {
        "id": "zsUppJLq8CQp",
        "colab_type": "text"
      },
      "source": [
        "We start from the discretization of $\\nabla^2$, in which we follow R. R. Coifman and S. Lafon.\n",
        "\n",
        "Start from heat kernel $K_\\epsilon(x, y)$ and form the new kernel\n",
        "\n",
        "$$\n",
        "K_\\epsilon'(x, y) := \\frac{K_s(x, y)}{q_\\epsilon(x) q_\\epsilon(y)}\n",
        "$$\n",
        "\n",
        "where\n",
        "\n",
        "$$\n",
        "q_\\epsilon(x) := \\int dy \\sqrt{\\det g(y)} \\ K_\\epsilon(x, y)\n",
        "$$\n",
        "\n",
        "Define the diffusion-like operator $D_{\\epsilon}$ via its action on a function $f$:\n",
        "\n",
        "$$\n",
        "(D_{\\epsilon} f)(x) = \\dfrac{1}{d_\\epsilon(x)} \\int dy \\sqrt{\\det g(y)} \\ K_\\epsilon'(x, y) f(y)\n",
        "$$\n",
        "\n",
        "where the normalization is given by\n",
        "\n",
        "$$\n",
        "d_{\\epsilon}(x) := \\int dy \\sqrt{\\det g(y)} \\ K_\\epsilon'(x, y)\n",
        "$$\n",
        "\n",
        "Now, it can be shown that operator\n",
        "\n",
        "$$\n",
        "L_{\\epsilon} := \\frac{D_{\\epsilon} - I}{\\epsilon}\n",
        "$$\n",
        "\n",
        "satisfies\n",
        "\n",
        "$$\n",
        "(L_{\\epsilon} f)(x) = \\nabla^2 f(x) + \\mathcal O(\\epsilon)\n",
        "$$\n",
        "\n",
        "Our proposal is thus to discretize $L_\\epsilon$. The procedure is simple: given a set of points (vertices) $\\{v_1, .., v_N\\}$, we define the discrete operator (i.e., $N \\times N$ matrix) $\\tilde L_\\epsilon$ as\n",
        "\n",
        "$$\n",
        "\\tilde L_{\\epsilon} := \\frac{\\tilde D_{\\epsilon} - \\tilde I}{\\epsilon}\n",
        "$$\n",
        "\n",
        "where $\\tilde I$ is the $N \\times N$ identity matrix and $\\tilde D_\\epsilon$\n",
        "is defined via action on a discrete function (i.e., $N$-vector) $f_i := f(v_i)$:\n",
        "\n",
        "$$\n",
        "(\\tilde D_{\\epsilon} f)_i = \\dfrac{1}{(\\tilde d_\\epsilon)_i} \\sum_j (\\tilde K_\\epsilon')_{ij} f_j, \\ \\ \\ \\ \\ \\text{with} \\ \\ (\\tilde d_\\epsilon)_i = \\sum_j (\\tilde K_\\epsilon')_{ij}\n",
        "$$\n",
        "\n",
        "where\n",
        "\n",
        "$$\n",
        "(\\tilde K_\\epsilon')_{ij} = \\frac{(\\tilde K_\\epsilon)_{ij}}{(\\tilde q_\\epsilon)_i (\\tilde q_\\epsilon)_j}, \\ \\ \\ \\ \\ \\text{with} \\ \\ (\\tilde q_\\epsilon)_i = \\sum_j (\\tilde K_\\epsilon)_{ij}\n",
        "$$\n",
        "\n",
        "and\n",
        "\n",
        "$$\n",
        "(\\tilde K_\\epsilon)_{ij} := K_\\epsilon(v_i, v_j)\n",
        "$$\n",
        "\n",
        "Now, it can be shown that the discretized operator $\\tilde L_\\epsilon$ converges to the continuous one $L_\\epsilon$:\n",
        "\n",
        "$$\n",
        "(\\tilde L_\\epsilon f)(v) = (L_\\epsilon f)(v) + \\mathcal O(\\epsilon^{-1/2-d/4}/\\sqrt N)\n",
        "$$\n",
        "\n",
        "where $d$ is the dimension of the space and $N$ the number of vertices in the discretization. Putting all together (and setting $d=2$, as that is the case in our examples), we get\n",
        "\n",
        "$$\n",
        "(\\tilde L_\\epsilon f)(v) = \\nabla^2 f(x) + \\mathcal O(\\epsilon) + \\mathcal O(\\frac{1}{\\sqrt N \\epsilon})\n",
        "$$\n",
        "\n",
        "Note that the two errors compete with each other when it comes to $\\epsilon$: on the one hand we would like $\\epsilon \\ll 1$, on the other we need $\\sqrt N \\epsilon \\gg 1$. This can in principle be achieved by increasing $N$, but in reality this soon becomes a problem (since the computational time grows very fast with the number of nodes in the discretization). Luckily, the $\\mathcal O(\\epsilon)$ error in the approximation $L_{\\epsilon} \\approx \\nabla^2$ is not so bad: it turns out we can safely take $\\epsilon = 0.5$ and $N = 625$ (i.e., $25$ cells on each side), which are the parameters that we used above.\n",
        "\n",
        "We therefore see that, given the heat kernel between any two vertices, $K_\\epsilon(v_i, v_j)$, after some linear algebra, we finally obtain the discrete version of the Laplacian operator:\n",
        "\n",
        "$$\n",
        "(\\nabla^2)_{ij} \\approx (\\tilde L_\\epsilon)_{ij}\n",
        "$$\n",
        "\n",
        "But the object $K_\\epsilon(v_i, v_j)$ is precisely the adjacency matrix $W_{ij}$ that describes the graph edges: the (discrete) Laplacian is therefore completely characterized by the graph!"
      ]
    },
    {
      "cell_type": "markdown",
      "metadata": {
        "id": "ax5cCG_UhwKi",
        "colab_type": "text"
      },
      "source": [
        "## 3.2 Reconstructing the Discretized Metric"
      ]
    },
    {
      "cell_type": "markdown",
      "metadata": {
        "id": "9oKVP-hk-huh",
        "colab_type": "text"
      },
      "source": [
        "Let us now go back to our original purpose: using the Laplacian to construct the metric. Recall that this can be achieved in the continuum by acting with $\\nabla^2$ on the functions\n",
        "\n",
        "$$\n",
        "f_{x_o}^{\\mu\\nu}(x) := \\dfrac{1}{2} \\big(x^\\mu - x^\\mu_o\\big) \\big(x^\\nu - x^\\nu_o\\big)\n",
        "$$\n",
        "\n",
        "Since $x_o$ is fixed, when we act with $\\nabla^2$ we have\n",
        "\n",
        "$$\n",
        "(\\nabla^2 f_{x_o}^{\\mu\\nu})(x) = \\dfrac{1}{2} \\big[\\nabla^2 (x^\\mu x^\\nu) - x_o^\\mu (\\nabla^2 x^\\nu) - (\\nabla^2 x^\\mu) x_o^\\nu\\big]\n",
        "$$\n",
        "\n",
        "Now, think of $x^\\mu$ as a function on space: it takes a point $x$ and returns the real number $x^\\mu$. As such, its discretization on the graph is a $N$-vector $\\tilde v^\\mu$ (whose $i$th element $\\tilde v^\\mu_i$ corresponds to the $\\mu$-coordinate of vertex $v_i$). On the other hand, the object $y^\\mu := (\\nabla^2 x^\\mu)$ is also a function, and so its discretization is a $N$-vector $\\tilde y^\\mu$ whose $i$th element is\n",
        "\n",
        "$$\n",
        "\\tilde y^\\mu_i = (\\nabla^2 x^\\mu)(v_i) = \\sum_j (\\tilde \\nabla^2)_{ij} \\tilde v^\\mu_j\n",
        "$$\n",
        "\n",
        "Similarly, we can think of $x^\\mu x^\\nu$ also as a function on space: it takes a point $x$ and returns the real number $x^\\mu x^\\nu$. Its discretization is thus the $N$-vector $\\tilde v^\\mu \\tilde v^\\nu$ with $i$th element $\\tilde v^\\mu_i \\tilde v^\\mu_i$ (no sum over index $i$). It follows that the function $y^{\\mu\\nu} := \\nabla^2 (x^\\mu x^\\nu)$ is discretized as a $N$-vector $\\tilde y^{\\mu\\nu}$ whose $i$th element is\n",
        "\n",
        "$$\n",
        "\\tilde y^{\\mu\\nu}_i = (\\nabla^2 x^\\mu x^\\nu)(v_i) = \\sum_j (\\tilde \\nabla^2)_{ij} \\tilde v^\\mu_j \\tilde v^\\nu_j\n",
        "$$\n",
        "\n",
        "The expression above thus becomes\n",
        "\n",
        "$$\n",
        "(\\nabla^2 f_{x_o}^{\\mu\\nu})(v_i) \\approx \\dfrac{1}{2} \\sum_j \\big[(\\tilde L_\\epsilon)_{ij} \\tilde v^\\mu_j \\tilde v^\\nu_j - x_o^\\mu (\\tilde L_\\epsilon)_{ij} \\tilde v^\\nu_j - x_o^\\nu (\\tilde L_\\epsilon)_{ij} \\tilde v^\\mu_j\\big]\n",
        "$$\n",
        "\n",
        "Finally, setting $x_o = v_i$, we find the discretized inverse metric at vertex $v_i$:\n",
        "\n",
        "$$\n",
        "g^{\\mu\\nu}(v_i) \\approx \\tilde g^{\\mu\\nu}_i = \\dfrac{1}{2} \\sum_j \\big[(\\tilde L_\\epsilon)_{ij} \\tilde v^\\mu_j \\tilde v^\\nu_j - \\tilde v_i^\\mu (\\tilde L_\\epsilon)_{ij} \\tilde v^\\nu_j - \\tilde v_i^\\nu (\\tilde L_\\epsilon)_{ij} \\tilde v^\\mu_j\\big]\n",
        "$$\n",
        "\n",
        "or, in matrix notation,\n",
        "\n",
        "$$\n",
        "\\tilde g^{\\mu\\nu} = \\dfrac{1}{2} \\big[\\tilde L_\\epsilon \\cdot (\\tilde v^\\mu \\circ \\tilde v^\\nu) - \\tilde v^\\mu \\circ (\\tilde L_\\epsilon \\cdot \\tilde v^\\nu) - (\\tilde L_\\epsilon \\cdot \\tilde v^\\mu) \\circ \\tilde v^\\nu\\big]\n",
        "$$\n",
        "\n",
        "where $\\cdot$ and $\\circ$ stand for matrix product and Hadamard product (i.e., element-wise multiplication), respectively."
      ]
    },
    {
      "cell_type": "markdown",
      "metadata": {
        "id": "INVFpek1h3kx",
        "colab_type": "text"
      },
      "source": [
        "## 3.3 Example: Euclidean Space"
      ]
    },
    {
      "cell_type": "markdown",
      "metadata": {
        "id": "RajUkExhh9qS",
        "colab_type": "text"
      },
      "source": [
        "Once we have the $N$-vector of matrices $\\tilde g^{\\mu\\nu}$, the $N$-vector of matrices $\\tilde g_{\\mu\\nu}$ (encoding the discrete metric at each vertex) is simply by matrix inversion. The following is an example in Euclidean space, for both the regular and the Poisson discretizations."
      ]
    },
    {
      "cell_type": "code",
      "metadata": {
        "id": "5wYBECtfmZMX",
        "colab_type": "code",
        "colab": {}
      },
      "source": [
        "M_reg = Space2d(25, 1, bulk=0.9)\n",
        "M_reg.sprinkle_reg()\n",
        "M_reg.graph_heat_kernel(epsilon=0.5, s=1)\n",
        "\n",
        "g_reg = M_reg.g(bulk_only=True)"
      ],
      "execution_count": null,
      "outputs": []
    },
    {
      "cell_type": "code",
      "metadata": {
        "id": "Vxmnwf7_lJmz",
        "colab_type": "code",
        "colab": {
          "base_uri": "https://localhost:8080/",
          "height": 265
        },
        "outputId": "4f6d6083-d870-4628-98c7-8fedb3f3fbc9"
      },
      "source": [
        "g00 = [g_reg[i, 0, 0] for i in range(len(g_reg))]\n",
        "g01 = [g_reg[i, 0, 1] for i in range(len(g_reg))]\n",
        "g11 = [g_reg[i, 1, 1] for i in range(len(g_reg))]\n",
        "\n",
        "plt.scatter(range(len(g_reg)), g00, color='r', marker='.', label='$g_{00}$')\n",
        "plt.scatter(range(len(g_reg)), g01, color='g', marker='.', label='$g_{01}, g_{10}$')\n",
        "plt.scatter(range(len(g_reg)), g11, color='b', marker='.', label='$g_{11}$')\n",
        "plt.legend(loc='lower center', ncol=3)\n",
        "plt.show()"
      ],
      "execution_count": null,
      "outputs": [
        {
          "output_type": "display_data",
          "data": {
            "image/png": "[encoded data removed]",
            "text/plain": [
              "<Figure size 432x288 with 1 Axes>"
            ]
          },
          "metadata": {
            "tags": [],
            "needs_background": "light"
          }
        }
      ]
    },
    {
      "cell_type": "code",
      "metadata": {
        "id": "Zwxl3Fv1nnFo",
        "colab_type": "code",
        "colab": {
          "base_uri": "https://localhost:8080/",
          "height": 85
        },
        "outputId": "070133a4-4942-49bd-fc4e-4a59294e7b20"
      },
      "source": [
        "print(\"Average metric (over all vertices):\\n\")\n",
        "print(\"{0}\".format(np.around(g_reg.mean(0), 2)))"
      ],
      "execution_count": null,
      "outputs": [
        {
          "output_type": "stream",
          "text": [
            "Average metric (over all vertices):\n",
            "\n",
            "[[0.9 0. ]\n",
            " [0.  0.9]]\n"
          ],
          "name": "stdout"
        }
      ]
    },
    {
      "cell_type": "code",
      "metadata": {
        "id": "dfdeTSdTmqs0",
        "colab_type": "code",
        "colab": {}
      },
      "source": [
        "M_ran = Space2d(25, 1, bulk=0.9)\n",
        "M_ran.sprinkle_ran(seed=1)\n",
        "M_ran.graph_heat_kernel(epsilon=0.5, s=1)\n",
        "\n",
        "g_ran = M_ran.g(bulk_only=True)"
      ],
      "execution_count": null,
      "outputs": []
    },
    {
      "cell_type": "code",
      "metadata": {
        "id": "1MQr32zKnCCt",
        "colab_type": "code",
        "colab": {
          "base_uri": "https://localhost:8080/",
          "height": 265
        },
        "outputId": "2a22ed4d-1261-42ef-ccc4-5bb102ddef14"
      },
      "source": [
        "g00 = [g_ran[i, 0, 0] for i in range(len(g_ran))]\n",
        "g01 = [g_ran[i, 0, 1] for i in range(len(g_ran))]\n",
        "g11 = [g_ran[i, 1, 1] for i in range(len(g_ran))]\n",
        "\n",
        "plt.scatter(range(len(g_ran)), g00, color='r', marker='.', label='$g_{00}$')\n",
        "plt.scatter(range(len(g_ran)), g01, color='g', marker='.', label='$g_{01}, g_{10}$')\n",
        "plt.scatter(range(len(g_ran)), g11, color='b', marker='.', label='$g_{11}$')\n",
        "plt.legend(loc='upper center', ncol=3)\n",
        "plt.show()"
      ],
      "execution_count": null,
      "outputs": [
        {
          "output_type": "display_data",
          "data": {
            "image/png": "[encoded data removed]",
            "text/plain": [
              "<Figure size 432x288 with 1 Axes>"
            ]
          },
          "metadata": {
            "tags": [],
            "needs_background": "light"
          }
        }
      ]
    },
    {
      "cell_type": "code",
      "metadata": {
        "id": "pO5ZL4oqnoia",
        "colab_type": "code",
        "colab": {
          "base_uri": "https://localhost:8080/",
          "height": 85
        },
        "outputId": "c7466f84-375b-4684-b31d-4fe2c462bbb3"
      },
      "source": [
        "print(\"Average metric (over all vertices):\\n\")\n",
        "print(\"{0}\".format(np.around(g_ran.mean(0), 2)))"
      ],
      "execution_count": null,
      "outputs": [
        {
          "output_type": "stream",
          "text": [
            "Average metric (over all vertices):\n",
            "\n",
            "[[ 1.05 -0.02]\n",
            " [-0.02  1.04]]\n"
          ],
          "name": "stdout"
        }
      ]
    },
    {
      "cell_type": "markdown",
      "metadata": {
        "id": "pwcTNUxpnw_s",
        "colab_type": "text"
      },
      "source": [
        "In both cases, the results are correct (i.e., $g = \\text{diag}(1, 1)$), well within an errors (which are of order $\\epsilon = 0.5$ and $1/\\sqrt N \\epsilon = 0.08$)."
      ]
    },
    {
      "cell_type": "markdown",
      "metadata": {
        "id": "2DMRerrgqpSh",
        "colab_type": "text"
      },
      "source": [
        "Note that the metric **at a single vertex** does not coincide with the continuous one:"
      ]
    },
    {
      "cell_type": "code",
      "metadata": {
        "id": "FwvMXL7Dq2eF",
        "colab_type": "code",
        "colab": {
          "base_uri": "https://localhost:8080/",
          "height": 187
        },
        "outputId": "509b848b-5be9-42f2-a5f8-6a0f73535d63"
      },
      "source": [
        "print(g_ran[0])\n",
        "print(\"\\n\")\n",
        "print(g_ran[50])\n",
        "print(\"\\n\")\n",
        "print(g_ran[100])"
      ],
      "execution_count": null,
      "outputs": [
        {
          "output_type": "stream",
          "text": [
            "[[1.36096873 0.18601837]\n",
            " [0.18601837 1.13162546]]\n",
            "\n",
            "\n",
            "[[ 0.92938401 -0.03418581]\n",
            " [-0.03418581  0.9138442 ]]\n",
            "\n",
            "\n",
            "[[1.00796967 0.07690019]\n",
            " [0.07690019 1.14672658]]\n"
          ],
          "name": "stdout"
        }
      ]
    },
    {
      "cell_type": "markdown",
      "metadata": {
        "id": "FS0XDVJKq2nP",
        "colab_type": "text"
      },
      "source": [
        "It is only the average of these fluctuations -- takne over sufficiently many points (here $N = 625$, which corresponds to integrating the metric over a region of size $25 \\ell_{\\rm Planck}$) -- that reproduces the correct result.\n",
        "\n",
        "Can interpret this fact by saying that, at the Planck scale, there are **fluctuations in the geometry**?"
      ]
    },
    {
      "cell_type": "markdown",
      "metadata": {
        "id": "_QCYriu1sTnP",
        "colab_type": "text"
      },
      "source": [
        "For completeness, let us check that the result does not change much under a symmetry transformation:"
      ]
    },
    {
      "cell_type": "code",
      "metadata": {
        "id": "fGS-kYehsPV5",
        "colab_type": "code",
        "colab": {}
      },
      "source": [
        "M_reg_alt = Space2d(25, 1, bulk=0.7)\n",
        "M_reg_alt.sprinkle_reg()\n",
        "M_reg_alt.rotat(np.pi/8)\n",
        "M_reg_alt.graph_heat_kernel(epsilon=0.5, s=1)\n",
        "\n",
        "g_reg_alt = M_reg_alt.g(bulk_only=True)"
      ],
      "execution_count": null,
      "outputs": []
    },
    {
      "cell_type": "code",
      "metadata": {
        "id": "7inEGuibsnvz",
        "colab_type": "code",
        "colab": {
          "base_uri": "https://localhost:8080/",
          "height": 51
        },
        "outputId": "788d82f7-d783-41cc-9a77-361c91a9e867"
      },
      "source": [
        "np.around(g_reg_alt.mean(0), 2)"
      ],
      "execution_count": null,
      "outputs": [
        {
          "output_type": "execute_result",
          "data": {
            "text/plain": [
              "array([[0.91, 0.  ],\n",
              "       [0.  , 0.91]])"
            ]
          },
          "metadata": {
            "tags": []
          },
          "execution_count": 94
        }
      ]
    },
    {
      "cell_type": "code",
      "metadata": {
        "id": "BIxKk2hsssx0",
        "colab_type": "code",
        "colab": {}
      },
      "source": [
        "M_ran_alt = Space2d(25, 1, bulk=0.7)\n",
        "M_ran_alt.sprinkle_ran(seed=1)\n",
        "M_ran_alt.rotat(np.pi/4)\n",
        "M_ran_alt.graph_heat_kernel(epsilon=0.5, s=1)\n",
        "\n",
        "g_ran_alt = M_ran_alt.g(bulk_only=True)"
      ],
      "execution_count": null,
      "outputs": []
    },
    {
      "cell_type": "code",
      "metadata": {
        "id": "ZcHTT6rAtKyT",
        "colab_type": "code",
        "colab": {
          "base_uri": "https://localhost:8080/",
          "height": 51
        },
        "outputId": "f1c5c275-d038-4feb-cef7-f573dcbada6c"
      },
      "source": [
        "np.around(g_ran_alt.mean(0), 2)"
      ],
      "execution_count": null,
      "outputs": [
        {
          "output_type": "execute_result",
          "data": {
            "text/plain": [
              "array([[ 1.05, -0.01],\n",
              "       [-0.01,  1.05]])"
            ]
          },
          "metadata": {
            "tags": []
          },
          "execution_count": 96
        }
      ]
    },
    {
      "cell_type": "markdown",
      "metadata": {
        "id": "H3MSGDmGQnAU",
        "colab_type": "text"
      },
      "source": [
        "# 4. Discussion"
      ]
    },
    {
      "cell_type": "markdown",
      "metadata": {
        "id": "qH2c055eQm9A",
        "colab_type": "text"
      },
      "source": [
        "Concerning the status of symmetries and discretization, we have a way to discretize the space which -- while not strictly **invariant** under the symmetries of the continuum manifold -- seems to resolve the issue of the selectin of a preferred frame: transforming a realization of Poisson distribution with a symmetry produces another realization of Poisson distribution, and since these realizations are random outcomes from the same distribution, we cannot single out one of them. The fundamental reason why this works is because **the Poisson distribution itself is invariant**, since it is based on the spacetime volume of each cell (which is an invariant quantity under the symmetries).\n",
        "\n",
        "But is this really the end of the story? Should we be satisfied with a single Poisson discretization? And what about the space-time splitting in this case? (Some discussion about this at the end.)"
      ]
    },
    {
      "cell_type": "markdown",
      "metadata": {
        "id": "N1afsZUfZIBm",
        "colab_type": "text"
      },
      "source": [
        "After discussing the discretizations, we saw how -- once a dicretization is given -- it is possible to encode the geometric data (in terms of the metric) on the corresponding graph. In this context, we confirmed that both discretization work (at least in the case of Euclidean 2-dimensional space).\n",
        "\n",
        "The procedure described -- based on the manifold heat kernel and the graph Laplacian -- allows to associate a **discrete metric** to a set of vertices (discretization of the manifold). While this is great, it is not the end of the story: with this metric we can compute lengths, areas and angles, but we do not have access to geometric quantities which in the continuum involve the metric's derivatives -- chiefly, Riemann's curvature tensor. How to discretize such objects?\n",
        "\n",
        "Another drawback of this method is that it relies on the heat kernel and the fact that the Laplacian has positive spectrum in Riemannian manifolds. Can we find a generalization to the Lorentzian case? The obvious choice would be to consider the D'Alembertian, as it does allow to reconstruct the Lorentzian metric in the same way as the Laplacian for Riemannian metrics. However, there is a big problem with it: the spectrum of the D'Alembertian is not necessarily positive, and in fact it is unbounded from below. This means that we cannot use its kernel to define a positive distance between vertices, and hence some entries in the adjacency matrix of the associated graphs diverge!"
      ]
    },
    {
      "cell_type": "markdown",
      "metadata": {
        "id": "JgVdcbz9gNgG",
        "colab_type": "text"
      },
      "source": [
        "If we can overcome these difficulties (as well as the technical issues involved in considering a large number of vertices), we would have a reasonable interpretation of macroscopic (continuum) spacetime as emerging from a discrete structure. Moreover, the fact that there are infinitely many such discrete strcutres (e.g., two different Poisson discretizations) that correspond to the same classical manifold, is a realization of the generally foggy idea of \"classical gravity as the thermodynamical limit of microscopic (quantum) degrees of freedom\":\n",
        "\n",
        "- The \"microscopic\" adjective refers to the fact that we have single vertices and discrete structures, which one needs to average on in order to obtain a continuum picture. (Compare with microscopic description of a gas.)\n",
        "\n",
        "- The \"quantum\" enters if we construct a Hilbert space spanned by all graphs (like it is done for example in LQG): we can then construct states which are linear combinations of different discrete geometries.\n",
        "\n",
        "This structure neatly realizes the proposal presented by Alejandro Perez in the last ILQGS talk, of how to resolve the information paradox by \"storing\" the information in the microscopic \"imperfections\" of spacetime.\n",
        "\n",
        "Indeed, we can imagine to separate the geometric degrees of freedom in macroscopic ones (e.g., the mean value of the metric on a block of spacetime consisting of several Planck-sized cells) and microscopic ones (e.g., the deviation from such mean value at every vertex). Then, Schwarzschild classical spacetime is not described by a single quantum state, but rather there exist infinitely many states $|\\psi_i\\rangle$ (each based on a different Poisson discretization, but all sharing the same \"macroscopic part) that are macroscopically interpreted as Schwarzschild:\n",
        "\n",
        "$$\n",
        "|\\psi_i\\rangle = |\\phi\\rangle \\otimes |\\varphi_i\\rangle\n",
        "$$\n",
        "\n",
        "If we take the initial state to be a linear combination of them, we can define the density matrix\n",
        "\n",
        "$$\n",
        "\\rho(t_0) = |\\Psi\\rangle \\langle\\Psi|, \\ \\ \\ \\ \\ \\text{where} \\ \\ |\\Psi\\rangle = \\left(|\\phi\\rangle \\otimes \\sum_{i} a_i |\\varphi_i\\rangle\\right) \\otimes \\left(\\sum_{\\alpha} b_\\alpha |\\chi_\\alpha\\rangle\\right)\n",
        "$$\n",
        "\n",
        "where $\\{|\\chi_\\alpha\\rangle\\}$ is a basis for the Hilbert space of matter (e.g., a scalar field which would later give rise to Hawking radiation). Since each $|\\varphi_i\\rangle$ is slightly different from the others, it is reasonable to expect that the interaction with matter will produce entanglement, so that the final density matrix is\n",
        "\n",
        "$$\n",
        "\\rho(t_1) = |\\Psi'\\rangle \\langle\\Psi'|, \\ \\ \\ \\ \\ \\text{where} \\ \\ |\\Psi'\\rangle = \\sum_{A, i, \\alpha} c_{A, i, \\alpha} |\\phi_A\\rangle |\\varphi_i\\rangle |\\chi_\\alpha\\rangle\n",
        "$$\n",
        "\n",
        "where $\\{|\\phi_A\\rangle\\}$ spans Hilbert space of macroscopic geometric degrees of freedom. We can then take the trace over the microscopic geometric dof's (keeping the macroscopic ones), thus obtaining a mixed state for matter on continuum spacetime:\n",
        "\n",
        "$$\n",
        "\\rho_{\\rm macro}(t_1) := \\text{Tr}_{\\rm micro}[\\rho(t_1)] = \\sum_{A, B, \\alpha, \\beta} d_{A,B,\\alpha,\\beta} |\\phi_A\\rangle \\langle \\phi_B| \\otimes |\\chi_\\alpha\\rangle \\langle\\chi_\\beta|, \\ \\ \\ \\ \\ \\text{with} \\ \\ d_{A,B,\\alpha,\\beta} := \\sum_i c_{A, i, \\alpha} \\overline{c_{B, i, \\beta}}\n",
        "$$\n",
        "\n",
        "If this state can be thought of as a quantum field on a classical geometry $|\\phi'\\rangle$, it must approximately be of the form\n",
        "\n",
        "$$\n",
        "\\rho_{\\rm macro}(t_1) \\approx |\\phi'\\rangle \\langle \\phi'| \\otimes \\left(\\sum_{\\alpha, \\beta} D_{\\alpha,\\beta} |\\chi_\\alpha\\rangle \\langle\\chi_\\beta|\\right)\n",
        "$$\n",
        "\n",
        "The interpretation is now the following: $|\\phi'\\rangle$ describes the macroscopic geometry (after black hole evaporation/resolution), for example Minkowski; the rest is a mixed state of matter (e.g., a thermal state for Hawking radiation). Still, there was no violation of unitarity: the missing information is stored in the impenetrable Planckian structure of the quantum geometry."
      ]
    },
    {
      "cell_type": "markdown",
      "metadata": {
        "id": "bbjypR8ZQm6K",
        "colab_type": "text"
      },
      "source": [
        "# 5. Extra: Spatial Slices"
      ]
    },
    {
      "cell_type": "markdown",
      "metadata": {
        "id": "ngAhvkiAQ15e",
        "colab_type": "text"
      },
      "source": [
        "Let us forget about the metric for now, and let us go back to the issue of regular VS Poisson discretizations.\n",
        "\n",
        "We saw that the regular discretization does not follow a Poisson distribution, but is that really so bad? The metric is recovered well without any problems, so in what sense does the regular discretization \"allows to single out a frame\"? Since a frame is ultimately a space-time splitting, one way to try to answer this question is to consider how **spatial slices** behave under symmetry transformations. In what follows, we will thus consider a $1+1$ decomposition."
      ]
    },
    {
      "cell_type": "markdown",
      "metadata": {
        "id": "Tly8EqMzRk0n",
        "colab_type": "text"
      },
      "source": [
        "Given that the slices are now 1-dimensional, there is not so much we can discuss about them (e.g., remaining symmetries). However, one relevant question we can ask is: does the number of vertices in a spatial slice change if we perform a symmetry transformation?\n",
        "\n",
        "To address this question, we must first define what we mean by \"spatial slice\" in the discretization. Taking an experimental point of view -- where our resolution is limited -- we define a spatial slice as a region of space which is 1-cell thick in the $x_2$ direction (the vertical axis), and otherwise extends througout the whole $x_1$ direction (the horizontal axis)."
      ]
    },
    {
      "cell_type": "markdown",
      "metadata": {
        "id": "rbxIIAAYRnty",
        "colab_type": "text"
      },
      "source": [
        "Let us start with the regular discretization."
      ]
    },
    {
      "cell_type": "code",
      "metadata": {
        "id": "K6a15jNGRq86",
        "colab_type": "code",
        "colab": {
          "base_uri": "https://localhost:8080/",
          "height": 323
        },
        "outputId": "6ea2b004-5447-4862-ff6e-f4f5cef8f249"
      },
      "source": [
        "Mreg1_alt = Space2d(50, 1, bulk=0.25)\n",
        "Mreg2_alt = Space2d(50, 1, bulk=0.25)\n",
        "Mreg3_alt = Space2d(50, 1, bulk=0.25)\n",
        "\n",
        "Mreg1_alt.sprinkle_reg()\n",
        "Mreg2_alt.sprinkle_reg()\n",
        "Mreg3_alt.sprinkle_reg()\n",
        "\n",
        "Mreg2_alt.rotat(np.pi/8)\n",
        "Mreg3_alt.boost(0.8)\n",
        "\n",
        "fig, axes = plt.subplots(nrows=1, ncols=3, figsize=(15, 5))\n",
        "Mreg1_alt.plot(ax=axes[0], cells=True, graph=False, color='k')\n",
        "Mreg2_alt.plot(ax=axes[1], cells=True, graph=False, color='k')\n",
        "Mreg3_alt.plot(ax=axes[2], cells=True, graph=False, color='k')"
      ],
      "execution_count": null,
      "outputs": [
        {
          "output_type": "display_data",
          "data": {
            "image/png": "[encoded data removed]",
            "text/plain": [
              "<Figure size 1080x360 with 3 Axes>"
            ]
          },
          "metadata": {
            "tags": [],
            "needs_background": "light"
          }
        }
      ]
    },
    {
      "cell_type": "code",
      "metadata": {
        "id": "H8ekBfKfRuBK",
        "colab_type": "code",
        "colab": {}
      },
      "source": [
        "def spatial_slices(space, bulk_only=False):\n",
        "# return an ordered list of slices (from \"past\" to \"future\"): every entry (slice) is itself a list, containing all cells that belong to that slice\n",
        "  slice_thickness = space.l\n",
        "  space_thickness = space.size\n",
        "  n_slices = space.M\n",
        "  S = np.linspace(-space_thickness/2, space_thickness/2 - 1, n_slices)\n",
        "  slice_list = [[] for i in range(n_slices)]\n",
        "  for cell in space.cells:\n",
        "    t = cell.coords[1]\n",
        "    for i in range(len(S)):\n",
        "      if S[i] <= t < S[i] + slice_thickness:\n",
        "        slice_list[i].append(cell)\n",
        "        break\n",
        "  if bulk_only: # delete the boundary slices\n",
        "    b = (1 - space.bulk)/2\n",
        "    cut = int(np.ceil(len(slice_list) * b))\n",
        "    slice_list = slice_list[cut:-cut]\n",
        "  return slice_list\n",
        "\n",
        "def spatial_C(space, bulk_only=False):\n",
        "# return a rank-2 array: the ith row corresponds to the ith slice (ordered from \"past\" to \"future\")\n",
        "# the jth element of that row is the number of (bulk) vertices in the jth cell of that slice\n",
        "  ss = spatial_slices(space, bulk_only)\n",
        "  CC = []\n",
        "  for spatial_slice in ss:\n",
        "    C = []\n",
        "    for cell in spatial_slice:\n",
        "      count = 0\n",
        "      for vert in space.verts_b:\n",
        "        if cell.contains(vert):\n",
        "          count = count + 1\n",
        "      C.append(count)\n",
        "    CC.append(C)\n",
        "  return np.array(CC)"
      ],
      "execution_count": null,
      "outputs": []
    },
    {
      "cell_type": "code",
      "metadata": {
        "id": "PKZkUnDTRwuT",
        "colab_type": "code",
        "colab": {}
      },
      "source": [
        "CC_reg1_alt = spatial_C(Mreg1_alt, bulk_only=True)\n",
        "CC_reg2_alt = spatial_C(Mreg2_alt, bulk_only=True)\n",
        "CC_reg3_alt = spatial_C(Mreg3_alt, bulk_only=True)"
      ],
      "execution_count": null,
      "outputs": []
    },
    {
      "cell_type": "code",
      "metadata": {
        "id": "8amAu5RER0FV",
        "colab_type": "code",
        "colab": {
          "base_uri": "https://localhost:8080/",
          "height": 338
        },
        "outputId": "9e913357-f95b-4c89-ec0d-687bf8376b29"
      },
      "source": [
        "T1 = np.array(range(len(CC_reg1_alt)))\n",
        "T2 = np.array(range(len(CC_reg2_alt)))\n",
        "T3 = np.array(range(len(CC_reg3_alt)))\n",
        "\n",
        "fig, axes = plt.subplots(nrows=1, ncols=3, figsize=(15, 5))\n",
        "\n",
        "axes[0].bar(T1, CC_reg1_alt.sum(1), color='r', alpha=0.25)\n",
        "axes[1].bar(T2, CC_reg2_alt.sum(1), color='r', alpha=0.25)\n",
        "axes[2].bar(T3, CC_reg3_alt.sum(1), color='r', alpha=0.25)\n",
        "\n",
        "axes[0].set_xlabel(\"time slice\")\n",
        "axes[0].set_ylabel(\"# of vertices\")\n",
        "axes[0].set_ylim(10, 15)\n",
        "axes[1].set_xlabel(\"time slice\")\n",
        "axes[1].set_ylabel(\"# of vertices\")\n",
        "axes[1].set_ylim(10, 15)\n",
        "axes[2].set_xlabel(\"time slice\")\n",
        "axes[2].set_ylabel(\"# of vertices\")\n",
        "axes[2].set_ylim(10, 15)\n",
        "\n",
        "plt.show()"
      ],
      "execution_count": null,
      "outputs": [
        {
          "output_type": "display_data",
          "data": {
            "image/png": "[encoded data removed]",
            "text/plain": [
              "<Figure size 1080x360 with 3 Axes>"
            ]
          },
          "metadata": {
            "tags": [],
            "needs_background": "light"
          }
        }
      ]
    },
    {
      "cell_type": "code",
      "metadata": {
        "id": "cx1LA6BiR3uG",
        "colab_type": "code",
        "colab": {
          "base_uri": "https://localhost:8080/",
          "height": 370,
          "referenced_widgets": [
            "b34d5e75a978404d897e90596c1fe2fa",
            "b955f5fa41154ad9be3f909025d30484",
            "eadcdfe237584f35ab47eda9936c337c",
            "b26f75b5ce8f4824a6e69d2e559f6b7c",
            "511b04598d73474e8ef3e71eb84b60e1",
            "80533b68bc7444259b184a7fb2be041e",
            "5c1060c2a21345d3bcd6a0e9b44d8c20"
          ]
        },
        "outputId": "d7cfa019-a257-478d-8a80-e325e4e6a6dc"
      },
      "source": [
        "Mreg_dyn = Space2d(50, 1, bulk=0.25)\n",
        "Mreg_dyn.sprinkle_reg()\n",
        "\n",
        "def update(v):\n",
        "  fig, ax = plt.subplots(nrows=1, ncols=1, figsize=(5, 5))\n",
        "  Mreg_dyn.boost(v)\n",
        "  CC_reg_dyn = spatial_C(Mreg_dyn, bulk_only=True)\n",
        "  Mreg_dyn.boost(-v)\n",
        "  Treg_dyn = np.array(range(len(CC_reg_dyn)))\n",
        "  plt.bar(Treg_dyn, CC_reg_dyn.sum(1), color='r', alpha=0.25)\n",
        "  plt.xlabel(\"time slice\")\n",
        "  plt.ylabel(\"# of vertices\")\n",
        "  plt.ylim(10, 16)\n",
        "\n",
        "widgets.interact(update, v=(-0.9, 0.9, 0.01));"
      ],
      "execution_count": null,
      "outputs": [
        {
          "output_type": "display_data",
          "data": {
            "application/vnd.jupyter.widget-view+json": {
              "model_id": "b34d5e75a978404d897e90596c1fe2fa",
              "version_minor": 0,
              "version_major": 2
            },
            "text/plain": [
              "interactive(children=(FloatSlider(value=0.0, description='v', max=0.9, min=-0.9, step=0.01), Output()), _dom_c…"
            ]
          },
          "metadata": {
            "tags": []
          }
        }
      ]
    },
    {
      "cell_type": "markdown",
      "metadata": {
        "id": "dYJo7mKDSeB3",
        "colab_type": "text"
      },
      "source": [
        "These pictures clarify what it means to have a special frame: it is the frame wrt which all slices have the exact same number of vertices, that is, in some sense, the same spatial volume (although to make this statement more rigorous we would have to study the discrete spatial metric induced by $\\tilde g_{\\mu\\nu}$ on each slice)."
      ]
    },
    {
      "cell_type": "markdown",
      "metadata": {
        "id": "r-a8RJzeTZ2F",
        "colab_type": "text"
      },
      "source": [
        "Let us take a look at the Poisson discretization."
      ]
    },
    {
      "cell_type": "code",
      "metadata": {
        "id": "b0mw23RWTV6i",
        "colab_type": "code",
        "colab": {}
      },
      "source": [
        "Mran1_alt = Space2d(50, 1, bulk=0.25)\n",
        "Mran2_alt = Space2d(50, 1, bulk=0.25)\n",
        "Mran3_alt = Space2d(50, 1, bulk=0.25)\n",
        "\n",
        "Mran1_alt.sprinkle_ran()\n",
        "Mran2_alt.sprinkle_ran()\n",
        "Mran3_alt.sprinkle_ran()\n",
        "\n",
        "Mran2_alt.rotat(np.pi/8)\n",
        "Mran3_alt.boost(0.8)"
      ],
      "execution_count": null,
      "outputs": []
    },
    {
      "cell_type": "code",
      "metadata": {
        "id": "0rN-tDBQTjf9",
        "colab_type": "code",
        "colab": {}
      },
      "source": [
        "CC_ran1_alt = spatial_C(Mran1_alt, bulk_only=True)\n",
        "CC_ran2_alt = spatial_C(Mran2_alt, bulk_only=True)\n",
        "CC_ran3_alt = spatial_C(Mran3_alt, bulk_only=True)"
      ],
      "execution_count": null,
      "outputs": []
    },
    {
      "cell_type": "code",
      "metadata": {
        "id": "juuEnD6ITmrD",
        "colab_type": "code",
        "colab": {
          "base_uri": "https://localhost:8080/",
          "height": 334
        },
        "outputId": "54c17749-e849-486d-f686-b151dad1bee8"
      },
      "source": [
        "T1 = np.array(range(len(CC_ran1_alt)))\n",
        "T2 = np.array(range(len(CC_ran2_alt)))\n",
        "T3 = np.array(range(len(CC_ran3_alt)))\n",
        "\n",
        "fig, axes = plt.subplots(nrows=1, ncols=3, figsize=(15, 5))\n",
        "\n",
        "axes[0].bar(T1, CC_ran1_alt.sum(1), color='r', alpha=0.25)\n",
        "axes[1].bar(T2, CC_ran2_alt.sum(1), color='r', alpha=0.25)\n",
        "axes[2].bar(T3, CC_ran3_alt.sum(1), color='r', alpha=0.25)\n",
        "\n",
        "axes[0].set_xlabel(\"time slice\")\n",
        "axes[0].set_ylabel(\"# of vertices\")\n",
        "axes[0].set_ylim(0, 24)\n",
        "axes[1].set_xlabel(\"time slice\")\n",
        "axes[1].set_ylabel(\"# of vertices\")\n",
        "axes[1].set_ylim(0, 24)\n",
        "axes[2].set_xlabel(\"time slice\")\n",
        "axes[2].set_ylabel(\"# of vertices\")\n",
        "axes[2].set_ylim(0, 24)\n",
        "\n",
        "plt.show()"
      ],
      "execution_count": null,
      "outputs": [
        {
          "output_type": "display_data",
          "data": {
            "image/png": "[encoded data removed]",
            "text/plain": [
              "<Figure size 1080x360 with 3 Axes>"
            ]
          },
          "metadata": {
            "tags": [],
            "needs_background": "light"
          }
        }
      ]
    },
    {
      "cell_type": "code",
      "metadata": {
        "id": "42aH8r6CVl_C",
        "colab_type": "code",
        "colab": {
          "base_uri": "https://localhost:8080/",
          "height": 370,
          "referenced_widgets": [
            "282deacf5576458c98e183a14dedf4d0",
            "07e1d81eb3b74b3db94fb7792f02ced1",
            "15ecb39a857d4be287b0c38f8a446609",
            "87404bf5287b4a01875f8e65ad8f00f3",
            "f73a260001f44f978a72d83706a8c865",
            "4c399c2010a647398209804dbd7a4e44",
            "995398185ad6417ca18d1d9580495b18"
          ]
        },
        "outputId": "fb7b08db-b7f5-47b3-a6f8-de7b8401b25e"
      },
      "source": [
        "Mran_dyn = Space2d(50, 1, bulk=0.25)\n",
        "Mran_dyn.sprinkle_ran()\n",
        "\n",
        "def update(v):\n",
        "  fig, ax = plt.subplots(nrows=1, ncols=1, figsize=(5, 5))\n",
        "  Mran_dyn.boost(v)\n",
        "  CC_ran_dyn = spatial_C(Mran_dyn, bulk_only=True)\n",
        "  Mran_dyn.boost(-v)\n",
        "  Tran_dyn = np.array(range(len(CC_ran_dyn)))\n",
        "  plt.bar(Tran_dyn, CC_ran_dyn.sum(1), color='r', alpha=0.25)\n",
        "  plt.xlabel(\"time slice\")\n",
        "  plt.ylabel(\"# of vertices\")\n",
        "  plt.ylim(0, 30)\n",
        "\n",
        "widgets.interact(update, v=(-0.9, 0.9, 0.01));"
      ],
      "execution_count": null,
      "outputs": [
        {
          "output_type": "display_data",
          "data": {
            "application/vnd.jupyter.widget-view+json": {
              "model_id": "282deacf5576458c98e183a14dedf4d0",
              "version_minor": 0,
              "version_major": 2
            },
            "text/plain": [
              "interactive(children=(FloatSlider(value=0.0, description='v', max=0.9, min=-0.9, step=0.01), Output()), _dom_c…"
            ]
          },
          "metadata": {
            "tags": []
          }
        }
      ]
    },
    {
      "cell_type": "markdown",
      "metadata": {
        "id": "kS1SBBYmU7Hu",
        "colab_type": "text"
      },
      "source": [
        "It is not clear how to interpret this: on the one hand, we have no \"special\" frame (in the sense described above); on the other hand, the variance in the number of vertices per slice is much larger than in the regular case -- do these \"fluctuations\" of the spatial volume in time constitute a problem for the underlying 3-geometry?"
      ]
    }
  ]
}